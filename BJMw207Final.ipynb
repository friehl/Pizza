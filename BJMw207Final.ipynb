{
 "metadata": {
  "name": "",
  "signature": "sha256:a476a8184a30690003efcd3ac3f794c130a2ed6c86a95a5cc96224ca61dd6a2d"
 },
 "nbformat": 3,
 "nbformat_minor": 0,
 "worksheets": [
  {
   "cells": [
    {
     "cell_type": "code",
     "collapsed": false,
     "input": [
      "# This tells matplotlib not to try opening a new window for each plot.\n",
      "%matplotlib inline\n",
      "\n",
      "# Import a bunch of libraries.\n",
      "import time\n",
      "import numpy as np\n",
      "import matplotlib.pyplot as plt\n",
      "from matplotlib.ticker import MultipleLocator\n",
      "from sklearn.pipeline import Pipeline\n",
      "from sklearn.datasets import fetch_mldata\n",
      "from sklearn.neighbors import KNeighborsClassifier\n",
      "from sklearn.metrics import confusion_matrix\n",
      "from sklearn.linear_model import LinearRegression\n",
      "from sklearn.naive_bayes import BernoulliNB\n",
      "from sklearn.naive_bayes import MultinomialNB\n",
      "from sklearn.naive_bayes import GaussianNB\n",
      "from sklearn.grid_search import GridSearchCV\n",
      "from sklearn.metrics import classification_report\n",
      "from sklearn import preprocessing\n",
      "\n",
      "import theano \n",
      "from theano import tensor as T\n",
      "from theano.sandbox.rng_mrg import MRG_RandomStreams as RandomStreams\n",
      "\n",
      "import csv\n",
      "\n",
      "import json\n",
      "from pprint import pprint\n",
      "import pandas as pan\n",
      "\n",
      "# Set the randomizer seed so results are the same each time.\n",
      "np.random.seed(0)\n",
      "\n",
      "print \"Done initializing\""
     ],
     "language": "python",
     "metadata": {},
     "outputs": [
      {
       "output_type": "stream",
       "stream": "stdout",
       "text": [
        "Done initializing\n"
       ]
      }
     ],
     "prompt_number": 2
    },
    {
     "cell_type": "code",
     "collapsed": false,
     "input": [
      "# Quick print to sanity check data\n",
      "train_data_file = open('train.json')   \n",
      "traindata = json.load(train_data_file)\n",
      "pprint(traindata[0]['request_id'])\n",
      "\n",
      "# Use the Test data to determine which columns are valid for creating the model\n",
      "# Start with just the numeric columns\n",
      "testdf = pan.read_json('test.json')\n",
      "dtypes = testdf.columns.to_series().groupby(testdf.dtypes).groups\n",
      "\n",
      "cols_features = dtypes[np.dtype('int64')] + dtypes[np.dtype('float64')]\n",
      "\n",
      "cols_allnums = dtypes[np.dtype('int64')] + dtypes[np.dtype('float64')]\n",
      "cols_allnums.append('requester_received_pizza')\n",
      "\n",
      "validlist_nums = list(set(cols_allnums))\n",
      "validlist_features = list(set(cols_features))\n",
      "\n",
      "# Create a DF and get baseline for how many people actually get pizza.  Limit the DF to just those that will be available\n",
      "# to actually run the model on test data\n",
      "fulldf = pan.read_json('train.json')\n",
      "fulldf = fulldf[validlist_nums]\n",
      "\n",
      "# Change the target variable to a 1 / 0\n",
      "fulldf['requester_received_pizza'] = fulldf['requester_received_pizza'].map({False: 0, True:1}).astype(int)\n",
      "\n",
      "# Shuffle the data\n",
      "#shuffle = np.random.permutation(np.arange(fulldf.shape[0]))\n",
      "#fulldf = fulldf[shuffle]\n",
      "\n",
      "print \"\\n\"\n",
      "print \"DataFrame Info: \"\n",
      "print fulldf.info()\n",
      "print \"\\n\"\n",
      "\n",
      "# Create Dev and Train datasets from the Train DF\n",
      "devdf = fulldf[:500]\n",
      "traindf = fulldf[500:]\n",
      "\n",
      "print \"Full DF Shape: \" + str(fulldf.shape)\n",
      "print \"Dev DF Shape: \" + str(devdf.shape)\n",
      "print \"Train DF.Shape:\" + str(traindf.shape) + \"\\n\"\n",
      "\n",
      "print \"Baseline Chances of Getting Pizza, no model: \" \n",
      "print \"Chance of getting pizza, train: \" + str(traindf['requester_received_pizza'].mean())\n",
      "print \"Chance of getting pizza, dev: \" + str(devdf['requester_received_pizza'].mean()) + \"\\n\"\n",
      "#...looks like 24.6% get pizza \n",
      "\n",
      "# Create the training data\n",
      "train_features = traindf[validlist_features]\n",
      "\n",
      "# Set the target values\n",
      "train_labels = traindf['requester_received_pizza'].values\n",
      "\n",
      "# Check the results of the df manipulation\n",
      "# print \"Subset of Train data labels: \" + str(train_labels[0:10])\n",
      "# print \"Subset of Train features: \" + str(train_features[0:10])\n",
      "\n",
      "# Need to reshape train data labels\n",
      "train_labels = train_labels.reshape(train_labels.shape[0],1)\n",
      "\n",
      "print \"Train labels shape: \" + str(train_labels.shape)\n",
      "print \"Train features shape: \" + str(train_features.shape)\n",
      "\n",
      "\n",
      "# Match up features and labels for dev data\n",
      "dev_features = devdf[validlist_features]\n",
      "dev_labels = devdf['requester_received_pizza'].values\n",
      "dev_labels = dev_labels.reshape(dev_labels.shape[0],1)\n",
      "\n",
      "print \"Dev labels shape: \" + str(dev_labels.shape)\n",
      "print \"Dev features shape: \" + str(dev_features.shape)\n",
      "\n",
      "numFeatures = train_features.shape[1]\n",
      "numTrainExamples = train_features.shape[0]\n",
      "numDevExamples = dev_features.shape[0]\n",
      "numClasses = train_labels.shape[1]\n",
      "\n",
      "print 'Classes = %d' %(numClasses)\n",
      "print 'Features = %d' %(numFeatures)\n",
      "print 'Train set = %d' %(numTrainExamples)\n",
      "print 'Dev set = %d' %(numDevExamples)\n",
      "\n"
     ],
     "language": "python",
     "metadata": {},
     "outputs": [
      {
       "output_type": "stream",
       "stream": "stdout",
       "text": [
        "u't3_l25d7'\n",
        "\n"
       ]
      },
      {
       "output_type": "stream",
       "stream": "stdout",
       "text": [
        "\n",
        "DataFrame Info: \n",
        "<class 'pandas.core.frame.DataFrame'>\n",
        "Int64Index: 4040 entries, 0 to 4039\n",
        "Data columns (total 12 columns):\n",
        "unix_timestamp_of_request                             4040 non-null int64\n",
        "requester_upvotes_plus_downvotes_at_request           4040 non-null int64\n",
        "requester_number_of_posts_at_request                  4040 non-null int64\n",
        "unix_timestamp_of_request_utc                         4040 non-null int64\n",
        "requester_received_pizza                              4040 non-null int64\n",
        "requester_account_age_in_days_at_request              4040 non-null float64\n",
        "requester_number_of_posts_on_raop_at_request          4040 non-null int64\n",
        "requester_number_of_comments_at_request               4040 non-null int64\n",
        "requester_days_since_first_post_on_raop_at_request    4040 non-null float64\n",
        "requester_upvotes_minus_downvotes_at_request          4040 non-null int64\n",
        "requester_number_of_comments_in_raop_at_request       4040 non-null int64\n",
        "requester_number_of_subreddits_at_request             4040 non-null int64\n",
        "dtypes: float64(2), int64(10)None\n",
        "\n",
        "\n",
        "Full DF Shape: (4040, 12)\n",
        "Dev DF Shape: (500, 12)\n",
        "Train DF.Shape:(3540, 12)\n",
        "\n",
        "Baseline Chances of Getting Pizza, no model: \n",
        "Chance of getting pizza, train: 0.24406779661\n",
        "Chance of getting pizza, dev: 0.26\n",
        "\n",
        "Train labels shape: (3540, 1)\n",
        "Train features shape: (3540, 11)\n",
        "Dev labels shape: (500, 1)\n",
        "Dev features shape: (500, 11)\n",
        "Classes = 1\n",
        "Features = 11\n",
        "Train set = 3540\n",
        "Dev set = 500\n"
       ]
      }
     ],
     "prompt_number": 58
    },
    {
     "cell_type": "code",
     "collapsed": false,
     "input": [
      "# k_values = {'k': [1,2,3,4,5,6,7,8,9,10]}\n",
      "# best_ks = best_k(k_values, dev_features, dev_labels)\n",
      "nb = KNeighborsClassifier(n_neighbors=5)\n",
      "\n",
      "nb.fit(train_features, train_labels) \n",
      "dev_predicted = nb.predict(dev_features)\n",
      "\n",
      "# Baseline KNN with one feature\n",
      "print dev_predicted[0:10]\n",
      "print nb.score(dev_features,dev_labels)"
     ],
     "language": "python",
     "metadata": {},
     "outputs": [
      {
       "output_type": "stream",
       "stream": "stdout",
       "text": [
        "[0 0 1 1 0 1 0 0 0 0]\n",
        "0.698\n"
       ]
      },
      {
       "output_type": "stream",
       "stream": "stderr",
       "text": [
        "-c:5: DataConversionWarning: A column-vector y was passed when a 1d array was expected. Please change the shape of y to (n_samples, ), for example using ravel().\n"
       ]
      }
     ],
     "prompt_number": 44
    },
    {
     "cell_type": "code",
     "collapsed": false,
     "input": [
      "def best_k(k_values, data, labels):\n",
      "    model = KNeighborsClassifier()\n",
      "    grid = GridSearchCV(estimator=model, param_grid=k_values)\n",
      "    grid.fit(data, labels)\n",
      "    \n",
      "    # Print results\n",
      "    print \"Results for alphas\"\n",
      "    for value in grid.grid_scores_:\n",
      "        print value\n",
      "    print \"\"\n",
      "    print \"Best score of alphas: \" + str(grid.best_score_)\n",
      "    print \"Best k value: \" + str(grid.best_estimator_.alpha)\n",
      "\n",
      "    return grid"
     ],
     "language": "python",
     "metadata": {},
     "outputs": [],
     "prompt_number": 70
    },
    {
     "cell_type": "code",
     "collapsed": false,
     "input": [
      "def neur_net():\n",
      "    ## (1) Parms\n",
      "    print numFeatures\n",
      "    print numClasses\n",
      "    w = theano.shared(np.asarray((np.random.randn(*(numFeatures, numClasses))*.001)))\n",
      "    \n",
      "    ## (2) Model\n",
      "    X = T.fmatrix()\n",
      "    Y = T.fmatrix()\n",
      "    def model(X, w):\n",
      "        return T.nnet.softmax(T.dot(X, w))\n",
      "    y_hat = model(X, w)\n",
      "\n",
      "    ## (3) Cost\n",
      "    cost = T.mean(T.nnet.categorical_crossentropy(y_hat, Y))\n",
      "\n",
      "    ## (4) Objective\n",
      "    alpha = 0.01\n",
      "    gradient = T.grad(cost=cost, wrt=w)\n",
      "    \n",
      "    update = [[w, w - gradient * alpha]] \n",
      "    train = theano.function(inputs=[X, Y], outputs=cost, updates=update, allow_input_downcast=True) \n",
      "    y_pred = T.argmax(y_hat, axis=1) \n",
      "    predict = theano.function(inputs=[X], outputs=y_pred, allow_input_downcast=True)\n",
      "\n",
      "    def gradientDescentStochastic(epochs):\n",
      "        trainTime = 0.0\n",
      "        predictTime = 0.0\n",
      "        start_time = time.time()\n",
      "        miniBatchSize = 10\n",
      "        print train_features.shape\n",
      "        print train_labels.shape\n",
      "        print dev_features.shape\n",
      "        print dev_labels.shape\n",
      "\n",
      "        for i in range(epochs):       \n",
      "            for start, end in zip(range(0, len(train_features), miniBatchSize), range(miniBatchSize, len(train_features), miniBatchSize)):\n",
      "                cost = train(train_features[start:end], train_labels[start:end])\n",
      "            trainTime =  trainTime + (time.time() - start_time)\n",
      "            print '%d) accuracy = %.4f' %(i+1, np.mean(dev_labels == predict(dev_features)))     \n",
      "        print 'train time = %.2f' %(trainTime)\n",
      "        \n",
      "        print \"Dev Predictions: \" \n",
      "        print predict(dev_features)\n",
      "        print \"Sample of Dev Labels (sanity check): \\n\" + str(dev_labels[0:10])\n",
      "\n",
      "    gradientDescentStochastic(5)\n",
      "\n",
      "    start_time = time.time()\n",
      "    predict(dev_features)   \n",
      "    print 'predict time = %.2f' %(time.time() - start_time)\n",
      "    \n",
      "neur_net()"
     ],
     "language": "python",
     "metadata": {},
     "outputs": [
      {
       "output_type": "stream",
       "stream": "stdout",
       "text": [
        "11\n",
        "1\n",
        "(3540, 11)"
       ]
      },
      {
       "output_type": "stream",
       "stream": "stdout",
       "text": [
        "\n",
        "(3540, 1)\n",
        "(500, 11)\n",
        "(500, 1)\n",
        "1) accuracy = 0.7400"
       ]
      },
      {
       "output_type": "stream",
       "stream": "stdout",
       "text": [
        "\n",
        "2) accuracy = 0.7400"
       ]
      },
      {
       "output_type": "stream",
       "stream": "stdout",
       "text": [
        "\n",
        "3) accuracy = 0.7400"
       ]
      },
      {
       "output_type": "stream",
       "stream": "stdout",
       "text": [
        "\n",
        "4) accuracy = 0.7400"
       ]
      },
      {
       "output_type": "stream",
       "stream": "stdout",
       "text": [
        "\n",
        "5) accuracy = 0.7400"
       ]
      },
      {
       "output_type": "stream",
       "stream": "stdout",
       "text": [
        "\n",
        "train time = 2.85\n",
        "Dev Predictions: \n",
        "[0 0 0 0 0 0 0 0 0 0 0 0 0 0 0 0 0 0 0 0 0 0 0 0 0 0 0 0 0 0 0 0 0 0 0 0 0\n",
        " 0 0 0 0 0 0 0 0 0 0 0 0 0 0 0 0 0 0 0 0 0 0 0 0 0 0 0 0 0 0 0 0 0 0 0 0 0\n",
        " 0 0 0 0 0 0 0 0 0 0 0 0 0 0 0 0 0 0 0 0 0 0 0 0 0 0 0 0 0 0 0 0 0 0 0 0 0\n",
        " 0 0 0 0 0 0 0 0 0 0 0 0 0 0 0 0 0 0 0 0 0 0 0 0 0 0 0 0 0 0 0 0 0 0 0 0 0\n",
        " 0 0 0 0 0 0 0 0 0 0 0 0 0 0 0 0 0 0 0 0 0 0 0 0 0 0 0 0 0 0 0 0 0 0 0 0 0\n",
        " 0 0 0 0 0 0 0 0 0 0 0 0 0 0 0 0 0 0 0 0 0 0 0 0 0 0 0 0 0 0 0 0 0 0 0 0 0\n",
        " 0 0 0 0 0 0 0 0 0 0 0 0 0 0 0 0 0 0 0 0 0 0 0 0 0 0 0 0 0 0 0 0 0 0 0 0 0\n",
        " 0 0 0 0 0 0 0 0 0 0 0 0 0 0 0 0 0 0 0 0 0 0 0 0 0 0 0 0 0 0 0 0 0 0 0 0 0\n",
        " 0 0 0 0 0 0 0 0 0 0 0 0 0 0 0 0 0 0 0 0 0 0 0 0 0 0 0 0 0 0 0 0 0 0 0 0 0\n",
        " 0 0 0 0 0 0 0 0 0 0 0 0 0 0 0 0 0 0 0 0 0 0 0 0 0 0 0 0 0 0 0 0 0 0 0 0 0\n",
        " 0 0 0 0 0 0 0 0 0 0 0 0 0 0 0 0 0 0 0 0 0 0 0 0 0 0 0 0 0 0 0 0 0 0 0 0 0\n",
        " 0 0 0 0 0 0 0 0 0 0 0 0 0 0 0 0 0 0 0 0 0 0 0 0 0 0 0 0 0 0 0 0 0 0 0 0 0\n",
        " 0 0 0 0 0 0 0 0 0 0 0 0 0 0 0 0 0 0 0 0 0 0 0 0 0 0 0 0 0 0 0 0 0 0 0 0 0\n",
        " 0 0 0 0 0 0 0 0 0 0 0 0 0 0 0 0 0 0 0]\n",
        "Sample of Dev Labels (sanity check): \n",
        "[[0]\n",
        " [0]\n",
        " [0]\n",
        " [0]\n",
        " [0]\n",
        " [1]\n",
        " [0]\n",
        " [0]\n",
        " [0]\n",
        " [1]]\n",
        "predict time = 0.00\n"
       ]
      }
     ],
     "prompt_number": 59
    },
    {
     "cell_type": "code",
     "collapsed": false,
     "input": [
      "\n",
      "# Create submission file\n",
      "testdf = pan.read_json('test.json')\n",
      "request_ids = testdf['request_id'].values\n",
      "\n",
      "with open('submission.csv', 'wb') as csvfile:\n",
      "    outputwriter = csv.writer(csvfile, delimiter=',',quotechar='|', quoting=csv.QUOTE_MINIMAL)\n",
      "    outputwriter.writerow(['request_id'] + ['requester_received_pizza'])\n",
      "    \n",
      "    for i in range(len(request_ids)):\n",
      "        outputwriter.writerow([request_ids[i], str(0)])\n"
     ],
     "language": "python",
     "metadata": {},
     "outputs": [
      {
       "output_type": "stream",
       "stream": "stdout",
       "text": [
        "[ True  True  True False  True False False False False False]\n",
        "[ 961.91090278  218.72678241   41.89813657  142.85181713    8.27287037\n",
        "    0.          615.75908565   79.16822917  456.59028935  378.77538194]\n",
        "(3539,)\n",
        "(3539,)\n",
        "(3539, 1)\n",
        "[False False False False False  True False False False  True]\n",
        "[   0.          501.11109954    0.            6.5184375   162.06325231\n",
        "  582.77658565    0.          153.24956019  366.525625    348.92042824]\n",
        "(500,)\n",
        "(500,)\n",
        "[False  True False False  True False False False  True False]\n",
        "0.672\n"
       ]
      }
     ],
     "prompt_number": 11
    },
    {
     "cell_type": "code",
     "collapsed": false,
     "input": [],
     "language": "python",
     "metadata": {},
     "outputs": []
    }
   ],
   "metadata": {}
  }
 ]
}