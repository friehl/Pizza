{
 "cells": [
  {
   "cell_type": "code",
   "execution_count": 2,
   "metadata": {
    "collapsed": true
   },
   "outputs": [],
   "source": [
    "%matplotlib inline\n",
    "from __future__ import division\n",
    "\n",
    "import numpy as np\n",
    "import pandas as pd\n",
    "import json\n",
    "import matplotlib.pyplot as plt\n",
    "\n",
    "# SK-learn libraries for learning.\n",
    "from sklearn import preprocessing\n",
    "from sklearn.pipeline import Pipeline\n",
    "from sklearn.neighbors import KNeighborsClassifier\n",
    "from sklearn.linear_model import LogisticRegression\n",
    "from sklearn.naive_bayes import BernoulliNB\n",
    "from sklearn.naive_bayes import MultinomialNB\n",
    "from sklearn.grid_search import GridSearchCV\n",
    "from sklearn.tree import DecisionTreeClassifier\n",
    "from sklearn.tree import export_graphviz\n",
    "from sklearn.cross_validation import cross_val_score\n",
    "from sklearn.ensemble import AdaBoostClassifier\n",
    "from sklearn.ensemble import BaggingClassifier\n",
    "\n",
    "# Ensemble methods\n",
    "from sklearn.ensemble import RandomForestClassifier\n",
    "\n",
    "# SK-learn libraries for evaluation.\n",
    "from sklearn.metrics import confusion_matrix\n",
    "from sklearn import metrics\n",
    "from sklearn.metrics import classification_report\n",
    "\n",
    "# SK-learn libraries for feature extraction from text.\n",
    "from sklearn.feature_extraction.text import *\n",
    "\n",
    "import pydot"
   ]
  },
  {
   "cell_type": "code",
   "execution_count": 3,
   "metadata": {
    "collapsed": true
   },
   "outputs": [],
   "source": [
    "# Load json dataset into pandas\n",
    "data = pd.read_json('train.json', convert_dates=['unix_timestamp_of_request', 'unix_timestamp_of_request_utc'])\n",
    "test = pd.read_json('test.json', convert_dates=['unix_timestamp_of_request', 'unix_timestamp_of_request_utc'])"
   ]
  },
  {
   "cell_type": "code",
   "execution_count": 4,
   "metadata": {
    "collapsed": true
   },
   "outputs": [],
   "source": [
    "data['post_was_edited'] = data['post_was_edited'].map(lambda x: 1 if x > 0 else 0)"
   ]
  },
  {
   "cell_type": "code",
   "execution_count": 5,
   "metadata": {
    "collapsed": false
   },
   "outputs": [],
   "source": [
    "def remove_train_features():\n",
    "    data_cols = set(data.columns.values)\n",
    "    test_cols = set(test.columns.values)\n",
    "    trim_data_cols = data_cols.intersection(test_cols)\n",
    "    return list(trim_data_cols)\n",
    "\n",
    "trim_data_cols = remove_train_features()\n",
    "trim_data_cols.append('requester_received_pizza') \n",
    "data = data[trim_data_cols]"
   ]
  },
  {
   "cell_type": "code",
   "execution_count": 6,
   "metadata": {
    "collapsed": false
   },
   "outputs": [
    {
     "data": {
      "text/plain": [
       "<matplotlib.axes._subplots.AxesSubplot at 0x10c69bf90>"
      ]
     },
     "execution_count": 6,
     "metadata": {},
     "output_type": "execute_result"
    },
    {
     "data": {
      "image/png": "[encoded data removed]",
      "text/plain": [
       "<matplotlib.figure.Figure at 0x10c69bd50>"
      ]
     },
     "metadata": {},
     "output_type": "display_data"
    }
   ],
   "source": [
    "raop_posts = pd.crosstab(data.requester_number_of_posts_on_raop_at_request, data.requester_received_pizza)\n",
    "raop_posts.div(raop_posts.sum(1).astype('float'), axis=0).plot(kind='bar', stacked=True, color=['black', 'gold'], grid=False)"
   ]
  },
  {
   "cell_type": "code",
   "execution_count": 7,
   "metadata": {
    "collapsed": false
   },
   "outputs": [],
   "source": [
    "# karma categorical variable, set mid at 175, which is the mean\n",
    "data['karma_cat_3'] = np.where(data.requester_upvotes_minus_downvotes_at_request <= 0, 0, \n",
    "                        np.where((data.requester_upvotes_minus_downvotes_at_request > 0) & \n",
    "                        (data.requester_upvotes_minus_downvotes_at_request <=175), 1, 2))\n",
    "data['karma_cat_2'] = np.where(data.requester_upvotes_minus_downvotes_at_request <= 10, 0, 1)\n",
    "data['all_text'] = [data.request_title.iloc[[i]].tolist()[0] + ' ' + data.request_text_edit_aware.iloc[[i]].tolist()[0]\n",
    "                    for i in range(data.shape[0])]"
   ]
  },
  {
   "cell_type": "code",
   "execution_count": 8,
   "metadata": {
    "collapsed": false
   },
   "outputs": [],
   "source": [
    "data['number_of_posts_cat'] = np.where(data.requester_number_of_posts_at_request <= 0, 0, 1)"
   ]
  },
  {
   "cell_type": "code",
   "execution_count": 9,
   "metadata": {
    "collapsed": false
   },
   "outputs": [],
   "source": [
    "import re\n",
    "def get_word_counts(word_list):\n",
    "    entry_count = []\n",
    "    for entry in data.all_text:\n",
    "        word_dict = dict((x,0) for x in word_list)\n",
    "        for word in re.findall(r\"\\w+\", entry):\n",
    "            if word in word_dict:\n",
    "                word_dict[word] += 1\n",
    "        entry_count.append(sum(word_dict.values()))\n",
    "    return pd.Series(entry_count)\n",
    "    \n",
    "job = ['work', 'paycheck', 'unemployment', 'interview', 'fired', 'unemployment', 'hire', 'hired']\n",
    "money = ['money', 'now', 'broke', 'week', 'until', 'time', 'last', 'day', 'when', 'today', 'tonight', 'paid', 'next', 'first', 'night', 'after', 'tomorrow', 'month', 'while', 'account', 'before', 'long', 'Friday', 'rent', 'buy', 'bank', 'still', 'bills', 'ago', 'cash', 'due', 'past', 'never', 'paycheck', 'check', 'spent', 'years', 'poor', 'till', 'yesterday', 'morning', 'dollars', 'financial', 'hour', 'bill', 'evening', 'credit', 'budget', 'loan', 'bucks', 'deposit', 'dollar', 'current', 'payed']\n",
    "student = ['college', 'student', 'school', 'roommate', 'studying', 'semester', 'university', 'finals', 'study', 'class', 'project', 'dorm', 'tuition']\n",
    "family = ['family', 'mom', 'wife', 'wifey', 'parents', 'mother', 'husband', 'dad', 'son', 'daughter', 'father', 'parent', 'mom', 'baby', 'born', 'newborn', 'kid', 'children', 'child']\n",
    "craving = ['friend', 'girlfriend', 'craving', 'birthday', 'boyfriend', 'celebrate', 'party', 'game', 'games', 'movie', 'date', 'drunk', 'beer', 'celebrating', 'invited', 'drinks', 'crave', 'wasted', 'invite']\n",
    "gratitude = ['pay', 'forward', 'thank', 'thanks', 'blessed', 'bless', 'grateful', 'reciprocate', 'back', 'teach']\n",
    "food = ['vegetable', 'vegetables', 'ramen', 'oatmeal']\n",
    "\n",
    "data['job_c'] = get_word_counts(job)\n",
    "data['money_c'] = get_word_counts(money)\n",
    "data['student_c'] = get_word_counts(student)\n",
    "data['family_c'] = get_word_counts(family)\n",
    "data['craving_c'] = get_word_counts(craving)\n",
    "data['gratitude_c'] = get_word_counts(gratitude)\n",
    "data['food_c'] = get_word_counts(food)\n",
    "data['exclamation_c'] = map(lambda x: len(re.findall(r'(!)|(:\\))', x)), data['all_text'])"
   ]
  },
  {
   "cell_type": "code",
   "execution_count": 10,
   "metadata": {
    "collapsed": false
   },
   "outputs": [],
   "source": [
    "# post_length, title length\n",
    "data['post_length'] = data['request_text_edit_aware'].map(lambda x: len(x))\n",
    "data['request_title_length'] = data['request_title'].map(lambda x: len(x))\n",
    "data['link'] = map(lambda x: 1 if x.find('http') >= 0 else 0, data['request_text_edit_aware'])\n",
    "data['img'] = map(lambda x: 1 if x.find('img') >= 0 else 0, data['request_text_edit_aware'])"
   ]
  },
  {
   "cell_type": "code",
   "execution_count": 11,
   "metadata": {
    "collapsed": true
   },
   "outputs": [],
   "source": [
    "data['job_c_cat'] = np.where(data.job_c == 0, 0, 1)\n",
    "data['money_c_cat'] = np.where(data.money_c <= 1, 0, 1)"
   ]
  },
  {
   "cell_type": "code",
   "execution_count": 12,
   "metadata": {
    "collapsed": false
   },
   "outputs": [],
   "source": [
    "data['weekday'] = map(lambda x: x.weekday(), data['unix_timestamp_of_request'])\n",
    "data['hour'] = map(lambda x: x.hour, data['unix_timestamp_of_request'])\n",
    "data['near_midnight'] = map(lambda x: 1 if (x >= 13 and x <= 19) else 0, data['hour'])\n",
    "# encode data\n",
    "# use deciles?"
   ]
  },
  {
   "cell_type": "code",
   "execution_count": 13,
   "metadata": {
    "collapsed": false
   },
   "outputs": [],
   "source": [
    "# this doesn't work yet\n",
    "features_to_encode = ['weekday', 'hour']\n",
    "\n",
    "def encode_features(df, fte):\n",
    "    for feature in fte:\n",
    "        df = df.join(pd.get_dummies(df[feature], prefix=feature))\n",
    "    return df\n",
    "\n",
    "\n",
    "\n",
    "data = encode_features(data, features_to_encode)"
   ]
  },
  {
   "cell_type": "code",
   "execution_count": 14,
   "metadata": {
    "collapsed": false
   },
   "outputs": [
    {
     "data": {
      "image/png": "[encoded data removed]",
      "text/plain": [
       "<matplotlib.figure.Figure at 0x10cb54790>"
      ]
     },
     "metadata": {},
     "output_type": "display_data"
    }
   ],
   "source": [
    "def get_dist(cat):\n",
    "    crosstab = pd.crosstab(cat, data.requester_received_pizza)\n",
    "    crosstab.div(crosstab.sum(1).astype('float'), axis=0).plot(kind='bar', stacked=True, color=['red','gold'], grid=False)\n",
    "    \n",
    "get_dist(data.food_c)"
   ]
  },
  {
   "cell_type": "code",
   "execution_count": 15,
   "metadata": {
    "collapsed": false
   },
   "outputs": [
    {
     "data": {
      "text/plain": [
       "<matplotlib.axes._subplots.AxesSubplot at 0x10c772790>"
      ]
     },
     "execution_count": 15,
     "metadata": {},
     "output_type": "execute_result"
    },
    {
     "data": {
      "image/png": "[encoded data removed]",
      "text/plain": [
       "<matplotlib.figure.Figure at 0x10ca74f50>"
      ]
     },
     "metadata": {},
     "output_type": "display_data"
    }
   ],
   "source": [
    "data.food_c.hist()"
   ]
  },
  {
   "cell_type": "code",
   "execution_count": 16,
   "metadata": {
    "collapsed": true
   },
   "outputs": [],
   "source": [
    "data['post_length_cat_2'] = np.where(data.post_length <= 180, 0, 1)\n",
    "data['post_length_cat_3'] = np.where(data.post_length <= 180, 0, np.where((data.post_length > 180) &\n",
    "                                   (data.post_length <= 502), 1, 2))\n"
   ]
  },
  {
   "cell_type": "code",
   "execution_count": 17,
   "metadata": {
    "collapsed": true
   },
   "outputs": [],
   "source": [
    "data['title_length_cat'] = np.where(data.request_title_length <=45, 0, 1)"
   ]
  },
  {
   "cell_type": "code",
   "execution_count": 18,
   "metadata": {
    "collapsed": false
   },
   "outputs": [
    {
     "name": "stdout",
     "output_type": "stream",
     "text": [
      "[u'jpg', u'trade', u'blue', u'use', u'make', u'thank', u'pretty', u'forward', u'http', u'friday', u'boyfriend', u'imgur', u'com', u'll', u'scarf']\n"
     ]
    }
   ],
   "source": [
    "import collections\n",
    "def get_pos_train_text(top_k=10):\n",
    "    pos_post_text = [data.all_text[i] for i in range(data.shape[1]) if data.requester_received_pizza[i] == 1]\n",
    "    neg_post_text = [data.all_text[i] for i in range(data.shape[1]) if data.requester_received_pizza[i] == 0]\n",
    "    cv = CountVectorizer(stop_words='english', max_features=top_k)\n",
    "    cv.fit_transform(pos_post_text)\n",
    "    pos_words = collections.OrderedDict(sorted(cv.vocabulary_.items()))\n",
    "    #print pos_words\n",
    "    \n",
    "    cv_neg = CountVectorizer(stop_words='english', max_features=top_k)\n",
    "    cv_neg.fit_transform(neg_post_text)\n",
    "    neg_words = collections.OrderedDict(sorted(cv_neg.vocabulary_.items()))\n",
    "    #print neg_words\n",
    "    \n",
    "    pos_words = set(pos_words.keys())\n",
    "    neg_words = set(neg_words.keys())\n",
    "\n",
    "    neg_dict = [i for i in neg_words if i not in pos_words]\n",
    "    pos_dict = [i for i in pos_words if i not in neg_words]\n",
    "    return pos_dict\n",
    "\n",
    "pos_dict = get_pos_train_text(30)\n",
    "print pos_dict"
   ]
  },
  {
   "cell_type": "code",
   "execution_count": 19,
   "metadata": {
    "collapsed": false
   },
   "outputs": [],
   "source": [
    "data['pos_words'] = get_word_counts(pos_dict)\n",
    "data['pos_words_cat'] = np.where(data.pos_words <= 1, 0, 1)"
   ]
  },
  {
   "cell_type": "code",
   "execution_count": 20,
   "metadata": {
    "collapsed": false
   },
   "outputs": [
    {
     "name": "stderr",
     "output_type": "stream",
     "text": [
      "/Users/mattmorgan/Dropbox/Berkeley/207DataSci/Pizza/venv/lib/python2.7/site-packages/sklearn/utils/validation.py:493: UserWarning: StandardScaler assumes floating point values as input, got int64\n",
      "  \"got %s\" % (estimator, X.dtype))\n"
     ]
    }
   ],
   "source": [
    "# Get final data frame and train model\n",
    "#model_df = data[['karma_cat_2', 'number_of_posts_cat', 'job_c_cat', 'money_c_cat', \n",
    "#                'title_length_cat', 'weekday_0', 'weekday_1', 'weekday_2', 'link', 'img',\n",
    "#                'weekday_3', 'weekday_4', 'weekday_5', 'weekday_6', 'near_midnight', 'pos_words_cat']]\n",
    "\n",
    "model_df_s = data[['karma_cat_2', 'near_midnight', 'link', 'img', 'gratitude_c',\n",
    "                   'post_length', 'requester_number_of_posts_on_raop_at_request', 'pos_words',\n",
    "                   'job_c', 'money_c', 'family_c', 'student_c', 'craving_c', 'request_title_length',\n",
    "                  'requester_number_of_comments_in_raop_at_request']]\n",
    "\n",
    "'''\n",
    "model_df_s = data[['requester_days_since_first_post_on_raop_at_request', 'requester_account_age_in_days_at_request',\n",
    "                  'requester_number_of_posts_on_raop_at_request', 'requester_upvotes_plus_downvotes_at_request',\n",
    "                  'requester_number_of_comments_at_request', 'requester_number_of_posts_at_request', \n",
    "                  'requester_number_of_subreddits_at_request', 'requester_upvotes_minus_downvotes_at_request',\n",
    "                  'requester_number_of_comments_in_raop_at_request', 'near_midnight', 'link', 'img',\n",
    "                  'post_length', 'job_c', 'money_c', 'family_c', 'student_c', 'craving_c', 'request_title_length',\n",
    "                  'karma_cat_2', 'post_length_cat_2', 'number_of_posts_cat', 'gratitude_c]]\n",
    "'''                  \n",
    "\n",
    "scaler = scalar = preprocessing.StandardScaler()\n",
    "scaler.fit(model_df_s.values)\n",
    "model_df = scalar.transform(model_df_s.values)\n",
    "\n",
    "np.random.seed(0)\n",
    "shuffle = np.random.permutation(np.arange(data.shape[0]))\n",
    "\n",
    "# Pull out text features\n",
    "train_length = 3230\n",
    "data_mat, labels = model_df[shuffle], data.requester_received_pizza.values[shuffle]\n",
    "data_shuffle = pd.DataFrame(data, index=shuffle)\n",
    "train_data, train_labels = data_mat[:train_length], labels[:train_length]\n",
    "dev_data, dev_labels = data_mat[train_length:], labels[train_length:]"
   ]
  },
  {
   "cell_type": "code",
   "execution_count": 21,
   "metadata": {
    "collapsed": false
   },
   "outputs": [
    {
     "name": "stdout",
     "output_type": "stream",
     "text": [
      "15\n",
      "Accuracy: 0.758024691358\n",
      "             precision    recall  f1-score   support\n",
      "\n",
      "      False       0.98      0.76      0.86       778\n",
      "       True       0.09      0.59      0.16        32\n",
      "\n",
      "avg / total       0.94      0.76      0.83       810\n",
      "\n"
     ]
    }
   ],
   "source": [
    "def run_knn(train, dev):\n",
    "    \n",
    "    def get_best_k(k_values):\n",
    "        accuracies = []\n",
    "        best_k = 1\n",
    "        best_recall = 0\n",
    "        for i in k_values:\n",
    "            neigh = KNeighborsClassifier(n_neighbors=i)\n",
    "            neigh.fit(train, train_labels)\n",
    "            pred = neigh.predict(dev)\n",
    "            recall_score = metrics.recall_score(pred, dev_labels)\n",
    "            if recall_score > best_recall:\n",
    "                best_k = i\n",
    "                best_recall = recall_score\n",
    "        return best_k\n",
    "\n",
    "    \n",
    "    def knn(best_k):\n",
    "        neigh = KNeighborsClassifier(n_neighbors=best_k)\n",
    "        neigh.fit(train, train_labels)\n",
    "        pred = neigh.predict(dev)\n",
    "        print \"Accuracy: {}\".format(neigh.score(dev, dev_labels))\n",
    "        print classification_report(pred, dev_labels)\n",
    "        return pred\n",
    "\n",
    "    k_values = np.arange(1,20,1)\n",
    "    best_k = get_best_k(k_values)\n",
    "    print best_k\n",
    "    pred = knn(best_k)\n",
    "    return pred\n",
    "knn_pred = run_knn(train_data, dev_data)"
   ]
  },
  {
   "cell_type": "code",
   "execution_count": 23,
   "metadata": {
    "collapsed": false
   },
   "outputs": [
    {
     "name": "stderr",
     "output_type": "stream",
     "text": [
      "[Parallel(n_jobs=1)]: Done   1 jobs       | elapsed:    0.0s\n",
      "[Parallel(n_jobs=1)]: Done  50 jobs       | elapsed:    0.4s\n"
     ]
    },
    {
     "name": "stdout",
     "output_type": "stream",
     "text": [
      "Fitting 5 folds for each of 18 candidates, totalling 90 fits\n",
      "Best C: {'penalty': 'l1', 'C': 0.10000000000000001}, with and accuracy of: 0.66312470194\n",
      "             precision    recall  f1-score   support\n",
      "\n",
      "      False       0.98      0.76      0.86       783\n",
      "       True       0.07      0.56      0.13        27\n",
      "\n",
      "avg / total       0.95      0.75      0.83       810\n",
      "\n",
      "0.750617283951\n"
     ]
    },
    {
     "name": "stderr",
     "output_type": "stream",
     "text": [
      "[Parallel(n_jobs=1)]: Done  90 out of  90 | elapsed:    0.7s finished\n"
     ]
    }
   ],
   "source": [
    "def log_reg(train, dev, param_grid):\n",
    "    logreg = LogisticRegression()\n",
    "    logreg = GridSearchCV(logreg, param_grid, scoring='roc_auc', verbose=True, cv=5)\n",
    "    logreg.fit(train, train_labels)\n",
    "    print(\"Best C: {}, with and accuracy of: {}\".format(logreg.best_params_, logreg.best_score_))\n",
    "    pred = logreg.predict(dev)\n",
    "    print classification_report(pred, dev_labels)\n",
    "    return pred\n",
    "    \n",
    "param_grid = [{'C': np.arange(.1, 1, .1), 'penalty': ['l1', 'l2']}]\n",
    "logreg_pred = log_reg(train_data, dev_data, param_grid)\n",
    "print 1 - sum(dev_labels.astype(float))/len(dev_labels.astype(float))"
   ]
  },
  {
   "cell_type": "code",
   "execution_count": 50,
   "metadata": {
    "collapsed": false
   },
   "outputs": [
    {
     "name": "stdout",
     "output_type": "stream",
     "text": [
      "0.771604938272\n",
      "             precision    recall  f1-score   support\n",
      "\n",
      "      False       0.97      0.78      0.86       753\n",
      "       True       0.18      0.65      0.29        57\n",
      "\n",
      "avg / total       0.91      0.77      0.82       810\n",
      "\n",
      "[[588  20]\n",
      " [165  37]]\n"
     ]
    }
   ],
   "source": [
    "def ada_boost():\n",
    "    \n",
    "    clf = AdaBoostClassifier(DecisionTreeClassifier(max_depth=1), n_estimators=290)\n",
    "    scores = cross_val_score(clf, train_data, train_labels)\n",
    "    clf.fit(train_data, train_labels)\n",
    "    pred = clf.predict(dev_data)\n",
    "    print clf.score(dev_data, dev_labels)\n",
    "    print classification_report(pred, dev_labels)\n",
    "\n",
    "    cm = confusion_matrix(dev_labels, pred)\n",
    "    print(cm)\n",
    "    \n",
    "    for i in range(len(pred)):\n",
    "        if pred[i] == 0 and dev_labels[i] == 1:\n",
    "            #print data_shuffle.all_text.iloc[[i]].tolist()[0]\n",
    "            pass\n",
    "    return pred\n",
    "\n",
    "    \n",
    "ada_pred = ada_boost()"
   ]
  },
  {
   "cell_type": "code",
   "execution_count": 27,
   "metadata": {
    "collapsed": false
   },
   "outputs": [
    {
     "name": "stdout",
     "output_type": "stream",
     "text": [
      "0.766666666667\n"
     ]
    }
   ],
   "source": [
    "final_pred = []\n",
    "for i in range(len(ada_pred)):\n",
    "    new_pred = 1.0*(int(ada_pred[i]) + int(knn_pred[i]) + int(logreg_pred[i]))/3\n",
    "    if new_pred > .10:\n",
    "        final_pred.append(True)\n",
    "    else:\n",
    "        final_pred.append(False)\n",
    "\n",
    "correct = 0\n",
    "total = 0\n",
    "for j in range(len(final_pred)):\n",
    "    if final_pred[j] == dev_labels[j]:\n",
    "        correct += 1\n",
    "    total += 1\n",
    "print 1.0 * correct / total"
   ]
  },
  {
   "cell_type": "code",
   "execution_count": 48,
   "metadata": {
    "collapsed": false
   },
   "outputs": [
    {
     "name": "stdout",
     "output_type": "stream",
     "text": [
      "0.753086419753\n",
      "             precision    recall  f1-score   support\n",
      "\n",
      "      False       1.00      0.75      0.86       806\n",
      "       True       0.01      0.75      0.03         4\n",
      "\n",
      "avg / total       0.99      0.75      0.85       810\n",
      "\n",
      "[[607   1]\n",
      " [199   3]]\n"
     ]
    }
   ],
   "source": [
    "def bagging():\n",
    "    bagging = BaggingClassifier(AdaBoostClassifier(DecisionTreeClassifier(max_depth=1, min_samples_leaf=1), n_estimators=300, algorithm=\"SAMME\"), \n",
    "                               max_samples=.5, max_features=.5)\n",
    "    scores = cross_val_score(bagging, train_data, train_labels)\n",
    "    bagging.fit(train_data, train_labels)\n",
    "    pred = bagging.predict(dev_data)\n",
    "    print bagging.score(dev_data, dev_labels)\n",
    "    print classification_report(pred, dev_labels)\n",
    "\n",
    "    cm = confusion_matrix(dev_labels, pred)\n",
    "    print(cm)\n",
    "    \n",
    "    \n",
    "bagging()"
   ]
  },
  {
   "cell_type": "code",
   "execution_count": 183,
   "metadata": {
    "collapsed": true
   },
   "outputs": [],
   "source": [
    "model_df_s = data[['karma_cat_2', 'near_midnight', 'link', 'img', 'gratitude_c',\n",
    "                   'post_length', 'requester_number_of_posts_on_raop_at_request', 'pos_words',\n",
    "                   'job_c', 'money_c', 'family_c', 'student_c', 'craving_c', 'request_title_length',\n",
    "                  'requester_number_of_comments_in_raop_at_request']]"
   ]
  }
 ],
 "metadata": {
  "kernelspec": {
   "display_name": "Python 2",
   "language": "python",
   "name": "python2"
  },
  "language_info": {
   "codemirror_mode": {
    "name": "ipython",
    "version": 2
   },
   "file_extension": ".py",
   "mimetype": "text/x-python",
   "name": "python",
   "nbconvert_exporter": "python",
   "pygments_lexer": "ipython2",
   "version": "2.7.6"
  }
 },
 "nbformat": 4,
 "nbformat_minor": 0
}
