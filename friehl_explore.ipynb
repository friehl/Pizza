{
 "cells": [
  {
   "cell_type": "code",
   "execution_count": 62,
   "metadata": {
    "collapsed": true
   },
   "outputs": [],
   "source": [
    "%matplotlib inline\n",
    "from __future__ import division\n",
    "\n",
    "import numpy as np\n",
    "import pandas as pd\n",
    "import json\n",
    "import matplotlib.pyplot as plt\n",
    "\n",
    "# SK-learn libraries for learning.\n",
    "from sklearn import preprocessing\n",
    "from sklearn.pipeline import Pipeline\n",
    "from sklearn.neighbors import KNeighborsClassifier\n",
    "from sklearn.linear_model import LogisticRegression\n",
    "from sklearn.naive_bayes import BernoulliNB\n",
    "from sklearn.naive_bayes import MultinomialNB\n",
    "from sklearn.grid_search import GridSearchCV\n",
    "from sklearn.grid_search import RandomizedSearchCV\n",
    "from sklearn.tree import DecisionTreeClassifier\n",
    "from sklearn.tree import export_graphviz\n",
    "from sklearn.cross_validation import cross_val_score\n",
    "from sklearn.ensemble import AdaBoostClassifier\n",
    "from sklearn.ensemble import BaggingClassifier\n",
    "from sklearn.ensemble import ExtraTreesClassifier\n",
    "from sklearn.svm import SVC\n",
    "\n",
    "# Ensemble methods\n",
    "from sklearn.ensemble import RandomForestClassifier\n",
    "\n",
    "# SK-learn libraries for evaluation.\n",
    "from sklearn.metrics import confusion_matrix\n",
    "from sklearn import metrics\n",
    "from sklearn.metrics import classification_report\n",
    "\n",
    "# SK-learn libraries for feature extraction from text.\n",
    "from sklearn.feature_extraction.text import *\n",
    "\n",
    "from scipy.stats import uniform\n",
    "\n",
    "import pydot"
   ]
  },
  {
   "cell_type": "code",
   "execution_count": 2,
   "metadata": {
    "collapsed": true
   },
   "outputs": [],
   "source": [
    "# Load json dataset into pandas\n",
    "data = pd.read_json('train.json', convert_dates=['unix_timestamp_of_request', 'unix_timestamp_of_request_utc'])\n",
    "test = pd.read_json('test.json', convert_dates=['unix_timestamp_of_request', 'unix_timestamp_of_request_utc'])"
   ]
  },
  {
   "cell_type": "code",
   "execution_count": 3,
   "metadata": {
    "collapsed": true
   },
   "outputs": [],
   "source": [
    "data['post_was_edited'] = data['post_was_edited'].map(lambda x: 1 if x > 0 else 0)"
   ]
  },
  {
   "cell_type": "code",
   "execution_count": 47,
   "metadata": {
    "collapsed": false
   },
   "outputs": [
    {
     "name": "stdout",
     "output_type": "stream",
     "text": [
      "<class 'pandas.core.frame.DataFrame'>\n",
      "Int64Index: 4040 entries, 0 to 4039\n",
      "Data columns (total 89 columns):\n",
      "request_title                                         4040 non-null object\n",
      "unix_timestamp_of_request                             4040 non-null datetime64[ns]\n",
      "giver_username_if_known                               4040 non-null object\n",
      "requester_days_since_first_post_on_raop_at_request    4040 non-null float64\n",
      "requester_subreddits_at_request                       4040 non-null object\n",
      "requester_account_age_in_days_at_request              4040 non-null float64\n",
      "requester_number_of_posts_on_raop_at_request          4040 non-null int64\n",
      "requester_upvotes_plus_downvotes_at_request           4040 non-null int64\n",
      "request_text_edit_aware                               4040 non-null object\n",
      "request_id                                            4040 non-null object\n",
      "requester_number_of_comments_at_request               4040 non-null int64\n",
      "requester_number_of_posts_at_request                  4040 non-null int64\n",
      "requester_number_of_subreddits_at_request             4040 non-null int64\n",
      "requester_upvotes_minus_downvotes_at_request          4040 non-null int64\n",
      "requester_number_of_comments_in_raop_at_request       4040 non-null int64\n",
      "unix_timestamp_of_request_utc                         4040 non-null datetime64[ns]\n",
      "requester_username                                    4040 non-null object\n",
      "requester_received_pizza                              4040 non-null bool\n",
      "karma_cat_3                                           4040 non-null int64\n",
      "karma_cat_2                                           4040 non-null int64\n",
      "all_text                                              4040 non-null object\n",
      "number_of_posts_cat                                   4040 non-null int64\n",
      "job_c                                                 4040 non-null int64\n",
      "money_c                                               4040 non-null int64\n",
      "student_c                                             4040 non-null int64\n",
      "family_c                                              4040 non-null int64\n",
      "craving_c                                             4040 non-null int64\n",
      "gratitude_c                                           4040 non-null int64\n",
      "food_c                                                4040 non-null int64\n",
      "exclamation_c                                         4040 non-null int64\n",
      "post_length                                           4040 non-null int64\n",
      "request_title_length                                  4040 non-null int64\n",
      "link                                                  4040 non-null int64\n",
      "img                                                   4040 non-null int64\n",
      "job_c_cat                                             4040 non-null int64\n",
      "money_c_cat                                           4040 non-null int64\n",
      "weekday                                               4040 non-null int64\n",
      "hour                                                  4040 non-null int64\n",
      "near_midnight                                         4040 non-null int64\n",
      "weekday_0                                             4040 non-null float64\n",
      "weekday_1                                             4040 non-null float64\n",
      "weekday_2                                             4040 non-null float64\n",
      "weekday_3                                             4040 non-null float64\n",
      "weekday_4                                             4040 non-null float64\n",
      "weekday_5                                             4040 non-null float64\n",
      "weekday_6                                             4040 non-null float64\n",
      "hour_0                                                4040 non-null float64\n",
      "hour_1                                                4040 non-null float64\n",
      "hour_2                                                4040 non-null float64\n",
      "hour_3                                                4040 non-null float64\n",
      "hour_4                                                4040 non-null float64\n",
      "hour_5                                                4040 non-null float64\n",
      "hour_6                                                4040 non-null float64\n",
      "hour_7                                                4040 non-null float64\n",
      "hour_8                                                4040 non-null float64\n",
      "hour_9                                                4040 non-null float64\n",
      "hour_10                                               4040 non-null float64\n",
      "hour_11                                               4040 non-null float64\n",
      "hour_12                                               4040 non-null float64\n",
      "hour_13                                               4040 non-null float64\n",
      "hour_14                                               4040 non-null float64\n",
      "hour_15                                               4040 non-null float64\n",
      "hour_16                                               4040 non-null float64\n",
      "hour_17                                               4040 non-null float64\n",
      "hour_18                                               4040 non-null float64\n",
      "hour_19                                               4040 non-null float64\n",
      "hour_20                                               4040 non-null float64\n",
      "hour_21                                               4040 non-null float64\n",
      "hour_22                                               4040 non-null float64\n",
      "hour_23                                               4040 non-null float64\n",
      "post_length_cat_2                                     4040 non-null int64\n",
      "post_length_cat_3                                     4040 non-null int64\n",
      "title_length_cat                                      4040 non-null int64\n",
      "pos_words                                             4040 non-null int64\n",
      "pos_words_cat                                         4040 non-null int64\n",
      "link_or_img                                           4040 non-null int64\n",
      "month                                                 4040 non-null int64\n",
      "month_1                                               4040 non-null float64\n",
      "month_2                                               4040 non-null float64\n",
      "month_3                                               4040 non-null float64\n",
      "month_4                                               4040 non-null float64\n",
      "month_5                                               4040 non-null float64\n",
      "month_6                                               4040 non-null float64\n",
      "month_7                                               4040 non-null float64\n",
      "month_8                                               4040 non-null float64\n",
      "month_9                                               4040 non-null float64\n",
      "month_10                                              4040 non-null float64\n",
      "month_11                                              4040 non-null float64\n",
      "month_12                                              4040 non-null float64\n",
      "dtypes: bool(1), datetime64[ns](2), float64(45), int64(34), object(7)\n",
      "memory usage: 2.7+ MB\n"
     ]
    }
   ],
   "source": [
    "data.info()"
   ]
  },
  {
   "cell_type": "code",
   "execution_count": 4,
   "metadata": {
    "collapsed": false
   },
   "outputs": [],
   "source": [
    "def remove_train_features():\n",
    "    data_cols = set(data.columns.values)\n",
    "    test_cols = set(test.columns.values)\n",
    "    trim_data_cols = data_cols.intersection(test_cols)\n",
    "    return list(trim_data_cols)\n",
    "\n",
    "trim_data_cols = remove_train_features()\n",
    "trim_data_cols.append('requester_received_pizza') \n",
    "data = data[trim_data_cols]"
   ]
  },
  {
   "cell_type": "code",
   "execution_count": 5,
   "metadata": {
    "collapsed": false
   },
   "outputs": [
    {
     "data": {
      "text/plain": [
       "<matplotlib.axes._subplots.AxesSubplot at 0x119c5f690>"
      ]
     },
     "execution_count": 5,
     "metadata": {},
     "output_type": "execute_result"
    },
    {
     "data": {
      "image/png": "[encoded data removed]",
      "text/plain": [
       "<matplotlib.figure.Figure at 0x119c5f790>"
      ]
     },
     "metadata": {},
     "output_type": "display_data"
    }
   ],
   "source": [
    "raop_posts = pd.crosstab(data.requester_number_of_posts_on_raop_at_request, data.requester_received_pizza)\n",
    "raop_posts.div(raop_posts.sum(1).astype('float'), axis=0).plot(kind='bar', stacked=True, color=['black', 'gold'], grid=False)"
   ]
  },
  {
   "cell_type": "code",
   "execution_count": 6,
   "metadata": {
    "collapsed": false
   },
   "outputs": [],
   "source": [
    "# karma categorical variable, set mid at 175, which is the mean\n",
    "data['karma_cat_3'] = np.where(data.requester_upvotes_minus_downvotes_at_request <= 0, 0, \n",
    "                        np.where((data.requester_upvotes_minus_downvotes_at_request > 0) & \n",
    "                        (data.requester_upvotes_minus_downvotes_at_request <=175), 1, 2))\n",
    "data['karma_cat_2'] = np.where(data.requester_upvotes_minus_downvotes_at_request <= 10, 0, 1)\n",
    "data['all_text'] = [data.request_title.iloc[[i]].tolist()[0] + ' ' + data.request_text_edit_aware.iloc[[i]].tolist()[0]\n",
    "                    for i in range(data.shape[0])]"
   ]
  },
  {
   "cell_type": "code",
   "execution_count": 7,
   "metadata": {
    "collapsed": false
   },
   "outputs": [],
   "source": [
    "data['number_of_posts_cat'] = np.where(data.requester_number_of_posts_at_request <= 0, 0, 1)"
   ]
  },
  {
   "cell_type": "code",
   "execution_count": 8,
   "metadata": {
    "collapsed": false
   },
   "outputs": [],
   "source": [
    "import re\n",
    "def get_word_counts(word_list):\n",
    "    entry_count = []\n",
    "    for entry in data.all_text:\n",
    "        word_dict = dict((x,0) for x in word_list)\n",
    "        for word in re.findall(r\"\\w+\", entry):\n",
    "            if word in word_dict:\n",
    "                word_dict[word] += 1\n",
    "        entry_count.append(sum(word_dict.values()))\n",
    "    return pd.Series(entry_count)\n",
    "    \n",
    "job = ['work', 'paycheck', 'unemployment', 'interview', 'fired', 'unemployment', 'hire', 'hired']\n",
    "money = ['money', 'now', 'broke', 'week', 'until', 'time', 'last', 'day', 'when', 'today', 'tonight', 'paid', 'next', 'first', 'night', 'after', 'tomorrow', 'month', 'while', 'account', 'before', 'long', 'Friday', 'rent', 'buy', 'bank', 'still', 'bills', 'ago', 'cash', 'due', 'past', 'never', 'paycheck', 'check', 'spent', 'years', 'poor', 'till', 'yesterday', 'morning', 'dollars', 'financial', 'hour', 'bill', 'evening', 'credit', 'budget', 'loan', 'bucks', 'deposit', 'dollar', 'current', 'payed']\n",
    "student = ['college', 'student', 'school', 'roommate', 'studying', 'semester', 'university', 'finals', 'study', 'class', 'project', 'dorm', 'tuition']\n",
    "family = ['family', 'mom', 'wife', 'wifey', 'parents', 'mother', 'husband', 'dad', 'son', 'daughter', 'father', 'parent', 'mom', 'baby', 'born', 'newborn', 'kid', 'children', 'child']\n",
    "craving = ['friend', 'girlfriend', 'craving', 'birthday', 'boyfriend', 'celebrate', 'party', 'game', 'games', 'movie', 'date', 'drunk', 'beer', 'celebrating', 'invited', 'drinks', 'crave', 'wasted', 'invite']\n",
    "gratitude = ['pay', 'forward', 'thank', 'thanks', 'blessed', 'bless', 'grateful', 'reciprocate', 'back', 'teach']\n",
    "food = ['vegetable', 'vegetables', 'ramen', 'oatmeal']\n",
    "\n",
    "data['job_c'] = get_word_counts(job)\n",
    "data['money_c'] = get_word_counts(money)\n",
    "data['student_c'] = get_word_counts(student)\n",
    "data['family_c'] = get_word_counts(family)\n",
    "data['craving_c'] = get_word_counts(craving)\n",
    "data['gratitude_c'] = get_word_counts(gratitude)\n",
    "data['food_c'] = get_word_counts(food)\n",
    "data['exclamation_c'] = map(lambda x: len(re.findall(r'(!)|(:\\))', x)), data['all_text'])"
   ]
  },
  {
   "cell_type": "code",
   "execution_count": 24,
   "metadata": {
    "collapsed": false
   },
   "outputs": [],
   "source": [
    "# post_length, title length\n",
    "data['post_length'] = data['request_text_edit_aware'].map(lambda x: len(x))\n",
    "data['request_title_length'] = data['request_title'].map(lambda x: len(x))\n",
    "data['link'] = map(lambda x: 1 if x.find('http') > 0 else 0, data['request_text_edit_aware'])\n",
    "data['img'] = map(lambda x: 1 if x.find('img') > 0 else 0, data['request_text_edit_aware'])\n",
    "data['link_or_img'] = map(lambda x: 1 if x.find('img') > 0 or x.find('http') > 0 else 0, data['request_text_edit_aware'])"
   ]
  },
  {
   "cell_type": "code",
   "execution_count": 10,
   "metadata": {
    "collapsed": true
   },
   "outputs": [],
   "source": [
    "data['job_c_cat'] = np.where(data.job_c == 0, 0, 1)\n",
    "data['money_c_cat'] = np.where(data.money_c <= 1, 0, 1)"
   ]
  },
  {
   "cell_type": "code",
   "execution_count": 39,
   "metadata": {
    "collapsed": false
   },
   "outputs": [],
   "source": [
    "data['weekday'] = map(lambda x: x.weekday(), data['unix_timestamp_of_request'])\n",
    "data['hour'] = map(lambda x: x.hour, data['unix_timestamp_of_request'])\n",
    "data['month'] = map(lambda x: x.month, data['unix_timestamp_of_request'])\n",
    "data['near_midnight'] = map(lambda x: 1 if (x >= 13 and x <= 19) else 0, data['hour'])\n",
    "# Check near midnight - probably not near midnight"
   ]
  },
  {
   "cell_type": "code",
   "execution_count": 46,
   "metadata": {
    "collapsed": false
   },
   "outputs": [],
   "source": [
    "# this doesn't work yet\n",
    "features_to_encode = ['weekday', 'hour', 'month']\n",
    "\n",
    "def encode_features(df, fte):\n",
    "    for feature in fte:\n",
    "        df = df.join(pd.get_dummies(df[feature], prefix=feature))\n",
    "    return df\n",
    "\n",
    "data = encode_features(data, features_to_encode)"
   ]
  },
  {
   "cell_type": "code",
   "execution_count": 45,
   "metadata": {
    "collapsed": false
   },
   "outputs": [
    {
     "data": {
      "image/png": "[encoded data removed]",
      "text/plain": [
       "<matplotlib.figure.Figure at 0x11b276050>"
      ]
     },
     "metadata": {},
     "output_type": "display_data"
    }
   ],
   "source": [
    "def get_dist(cat):\n",
    "    crosstab = pd.crosstab(cat, data.requester_received_pizza)\n",
    "    crosstab.div(crosstab.sum(1).astype('float'), axis=0).plot(kind='bar', stacked=True, color=['red','gold'], grid=False)\n",
    "    \n",
    "get_dist(data.month)"
   ]
  },
  {
   "cell_type": "code",
   "execution_count": 14,
   "metadata": {
    "collapsed": false
   },
   "outputs": [
    {
     "data": {
      "text/plain": [
       "<matplotlib.axes._subplots.AxesSubplot at 0x119cb9f90>"
      ]
     },
     "execution_count": 14,
     "metadata": {},
     "output_type": "execute_result"
    },
    {
     "data": {
      "image/png": "[encoded data removed]",
      "text/plain": [
       "<matplotlib.figure.Figure at 0x119d36750>"
      ]
     },
     "metadata": {},
     "output_type": "display_data"
    }
   ],
   "source": [
    "data.food_c.hist()"
   ]
  },
  {
   "cell_type": "code",
   "execution_count": 15,
   "metadata": {
    "collapsed": true
   },
   "outputs": [],
   "source": [
    "data['post_length_cat_2'] = np.where(data.post_length <= 180, 0, 1)\n",
    "data['post_length_cat_3'] = np.where(data.post_length <= 180, 0, np.where((data.post_length > 180) &\n",
    "                                   (data.post_length <= 502), 1, 2))\n"
   ]
  },
  {
   "cell_type": "code",
   "execution_count": 16,
   "metadata": {
    "collapsed": true
   },
   "outputs": [],
   "source": [
    "data['title_length_cat'] = np.where(data.request_title_length <=45, 0, 1)"
   ]
  },
  {
   "cell_type": "code",
   "execution_count": 17,
   "metadata": {
    "collapsed": false
   },
   "outputs": [
    {
     "name": "stdout",
     "output_type": "stream",
     "text": [
      "[u'jpg', u'trade', u'blue', u'use', u'make', u'thank', u'pretty', u'forward', u'http', u'friday', u'boyfriend', u'imgur', u'com', u'll', u'scarf']\n"
     ]
    }
   ],
   "source": [
    "import collections\n",
    "def get_pos_train_text(top_k=10):\n",
    "    pos_post_text = [data.all_text[i] for i in range(data.shape[1]) if data.requester_received_pizza[i] == 1]\n",
    "    neg_post_text = [data.all_text[i] for i in range(data.shape[1]) if data.requester_received_pizza[i] == 0]\n",
    "    cv = CountVectorizer(stop_words='english', max_features=top_k)\n",
    "    cv.fit_transform(pos_post_text)\n",
    "    pos_words = collections.OrderedDict(sorted(cv.vocabulary_.items()))\n",
    "    #print pos_words\n",
    "    \n",
    "    cv_neg = CountVectorizer(stop_words='english', max_features=top_k)\n",
    "    cv_neg.fit_transform(neg_post_text)\n",
    "    neg_words = collections.OrderedDict(sorted(cv_neg.vocabulary_.items()))\n",
    "    #print neg_words\n",
    "    \n",
    "    pos_words = set(pos_words.keys())\n",
    "    neg_words = set(neg_words.keys())\n",
    "\n",
    "    neg_dict = [i for i in neg_words if i not in pos_words]\n",
    "    pos_dict = [i for i in pos_words if i not in neg_words]\n",
    "    return pos_dict\n",
    "\n",
    "pos_dict = get_pos_train_text(30)\n",
    "print pos_dict"
   ]
  },
  {
   "cell_type": "code",
   "execution_count": 18,
   "metadata": {
    "collapsed": false
   },
   "outputs": [],
   "source": [
    "data['pos_words'] = get_word_counts(pos_dict)\n",
    "data['pos_words_cat'] = np.where(data.pos_words <= 1, 0, 1)"
   ]
  },
  {
   "cell_type": "code",
   "execution_count": 135,
   "metadata": {
    "collapsed": false
   },
   "outputs": [
    {
     "name": "stdout",
     "output_type": "stream",
     "text": [
      "[[  6.55811326e-01   1.77903020e+00  -2.69733646e-01  -2.05697986e-01\n",
      "   -6.18162365e-01   1.13132232e+00  -1.95294674e-01  -6.23184789e-01\n",
      "   -4.55484057e-01   1.16183455e+00   4.14114466e+00  -4.59017360e-01\n",
      "   -4.31870465e-01  -5.78137062e-01  -1.88976157e-01]\n",
      " [ -1.52482880e+00  -5.62104005e-01  -2.69733646e-01  -2.05697986e-01\n",
      "    1.11552452e+00   4.57864207e-01  -1.95294674e-01   1.15023612e+00\n",
      "   -4.55484057e-01   2.85563662e-02  -4.32204098e-01  -4.59017360e-01\n",
      "   -4.31870465e-01   2.77996597e-03  -1.88976157e-01]\n",
      " [  6.55811326e-01  -5.62104005e-01  -2.69733646e-01  -2.05697986e-01\n",
      "   -6.18162365e-01   4.41303762e-01  -1.95294674e-01  -3.20444867e-02\n",
      "   -4.55484057e-01  -8.78066183e-01  -4.32204098e-01  -4.59017360e-01\n",
      "   -4.31870465e-01  -3.01509906e-01  -1.88976157e-01]\n",
      " [  6.55811326e-01  -5.62104005e-01  -2.69733646e-01  -2.05697986e-01\n",
      "    2.48681076e-01   4.10929965e-02  -1.95294674e-01  -6.23184789e-01\n",
      "   -4.55484057e-01   1.16183455e+00  -4.32204098e-01   5.28958204e-01\n",
      "   -4.31870465e-01   1.69020562e+00   6.89915254e-01]\n",
      " [  6.55811326e-01  -5.62104005e-01  -2.69733646e-01  -2.05697986e-01\n",
      "   -6.18162365e-01  -7.86929277e-01  -1.95294674e-01  -6.23184789e-01\n",
      "   -4.55484057e-01  -4.24754908e-01  -4.32204098e-01   1.51693377e+00\n",
      "   -4.31870465e-01   4.45383416e-01   9.82879058e-01]\n",
      " [  6.55811326e-01  -5.62104005e-01  -2.69733646e-01  -2.05697986e-01\n",
      "   -6.18162365e-01  -4.97121481e-01  -1.95294674e-01  -6.23184789e-01\n",
      "   -4.55484057e-01  -4.24754908e-01  -4.32204098e-01  -4.59017360e-01\n",
      "    2.00834867e+00  -4.95148915e-01  -1.88976157e-01]\n",
      " [  6.55811326e-01  -5.62104005e-01  -2.69733646e-01  -2.05697986e-01\n",
      "   -6.18162365e-01   6.56589553e-01  -1.95294674e-01  -6.23184789e-01\n",
      "    2.26061276e+00  -4.24754908e-01  -4.32204098e-01  -4.59017360e-01\n",
      "   -4.31870465e-01  -5.25454652e-02  -1.88976157e-01]\n",
      " [ -1.52482880e+00  -5.62104005e-01  -2.69733646e-01  -2.05697986e-01\n",
      "    2.48681076e-01   1.57016115e-01  -1.95294674e-01   1.15023612e+00\n",
      "   -4.55484057e-01   9.35178915e-01  -4.32204098e-01  -4.59017360e-01\n",
      "   -4.31870465e-01  -2.48827496e-02  -1.88976157e-01]\n",
      " [ -1.52482880e+00  -5.62104005e-01  -2.69733646e-01  -2.05697986e-01\n",
      "   -6.18162365e-01   8.08393637e-01  -1.95294674e-01  -3.20444867e-02\n",
      "   -4.55484057e-01   7.08523278e-01  -4.32204098e-01   1.51693377e+00\n",
      "   -4.31870465e-01  -5.50474346e-01  -1.88976157e-01]\n",
      " [  6.55811326e-01   1.77903020e+00  -2.69733646e-01  -2.05697986e-01\n",
      "   -6.18162365e-01   1.45975818e-01  -1.95294674e-01  -3.20444867e-02\n",
      "    9.02564350e-01   2.29511274e+00  -4.32204098e-01   1.51693377e+00\n",
      "   -4.31870465e-01  -4.12160768e-01  -1.88976157e-01]]\n"
     ]
    }
   ],
   "source": [
    "# Get final data frame and train model\n",
    "#model_df = data[['karma_cat_2', 'number_of_posts_cat', 'job_c_cat', 'money_c_cat', \n",
    "#                'title_length_cat', 'weekday_0', 'weekday_1', 'weekday_2', 'link', 'img',\n",
    "#                'weekday_3', 'weekday_4', 'weekday_5', 'weekday_6', 'near_midnight', 'pos_words_cat']]\n",
    "\n",
    "model_df_s = data[['karma_cat_2', 'near_midnight', 'link', 'img', 'gratitude_c',\n",
    "                   'post_length', 'requester_number_of_posts_on_raop_at_request', 'pos_words',\n",
    "                   'job_c', 'money_c', 'family_c', 'student_c', 'craving_c', 'request_title_length',\n",
    "                  'requester_number_of_comments_in_raop_at_request']]\n",
    "                  \n",
    "'''\n",
    "model_df_s = data[['requester_days_since_first_post_on_raop_at_request', 'requester_account_age_in_days_at_request',\n",
    "                  'requester_number_of_posts_on_raop_at_request', 'requester_upvotes_plus_downvotes_at_request',\n",
    "                  'requester_number_of_comments_at_request', 'requester_number_of_posts_at_request', \n",
    "                  'requester_number_of_subreddits_at_request', 'requester_upvotes_minus_downvotes_at_request',\n",
    "                  'requester_number_of_comments_in_raop_at_request', 'near_midnight', 'link', 'img',\n",
    "                  'post_length', 'job_c', 'money_c', 'family_c', 'student_c', 'craving_c', 'request_title_length',\n",
    "                  'karma_cat_2', 'post_length_cat_2', 'number_of_posts_cat', 'gratitude_c]]\n",
    "'''\n",
    "\n",
    "scaler = scalar = preprocessing.StandardScaler()\n",
    "scaler.fit(model_df_s.values)\n",
    "model_df = scalar.transform(model_df_s.values)\n",
    "\n",
    "np.random.seed(0)\n",
    "shuffle = np.random.permutation(np.arange(data.shape[0]))\n",
    "\n",
    "# Pull out text features\n",
    "train_length = 3230\n",
    "data_mat, labels = model_df[shuffle], data.requester_received_pizza.values[shuffle]\n",
    "\n",
    "data_shuffle = pd.DataFrame(data, index=shuffle)\n",
    "train_data, train_labels = data_mat[:train_length], labels[:train_length]\n",
    "dev_data, dev_labels = data_mat[train_length:], labels[train_length:]\n",
    "print train_data[10:20]"
   ]
  },
  {
   "cell_type": "code",
   "execution_count": 104,
   "metadata": {
    "collapsed": false
   },
   "outputs": [
    {
     "name": "stdout",
     "output_type": "stream",
     "text": [
      "18\n",
      "Accuracy: 0.754320987654\n",
      "             precision    recall  f1-score   support\n",
      "\n",
      "      False       0.99      0.76      0.86       799\n",
      "       True       0.03      0.64      0.07        11\n",
      "\n",
      "avg / total       0.98      0.75      0.85       810\n",
      "\n"
     ]
    }
   ],
   "source": [
    "def run_knn(train, dev):\n",
    "    \n",
    "    def get_best_k(k_values):\n",
    "        accuracies = []\n",
    "        best_k = 1\n",
    "        best_recall = 0\n",
    "        for i in k_values:\n",
    "            neigh = KNeighborsClassifier(n_neighbors=i)\n",
    "            neigh.fit(train, train_labels)\n",
    "            pred = neigh.predict(dev)\n",
    "            recall_score = metrics.recall_score(pred, dev_labels)\n",
    "            if recall_score > best_recall:\n",
    "                best_k = i\n",
    "                best_recall = recall_score\n",
    "        return best_k\n",
    "\n",
    "    \n",
    "    def knn(best_k):\n",
    "        neigh = KNeighborsClassifier(n_neighbors=best_k)\n",
    "        neigh.fit(train, train_labels)\n",
    "        pred = neigh.predict(dev)\n",
    "        print \"Accuracy: {}\".format(neigh.score(dev, dev_labels))\n",
    "        print classification_report(pred, dev_labels)\n",
    "        return neigh\n",
    "\n",
    "    k_values = np.arange(1,20,1)\n",
    "    best_k = get_best_k(k_values)\n",
    "    print best_k\n",
    "    pred = knn(best_k)\n",
    "    return pred\n",
    "knn = run_knn(train_data, dev_data)"
   ]
  },
  {
   "cell_type": "code",
   "execution_count": 105,
   "metadata": {
    "collapsed": false
   },
   "outputs": [
    {
     "name": "stderr",
     "output_type": "stream",
     "text": [
      "[Parallel(n_jobs=1)]: Done   1 jobs       | elapsed:    0.0s\n",
      "[Parallel(n_jobs=1)]: Done  50 jobs       | elapsed:    0.6s\n"
     ]
    },
    {
     "name": "stdout",
     "output_type": "stream",
     "text": [
      "Fitting 5 folds for each of 18 candidates, totalling 90 fits\n",
      "Best C: {'penalty': 'l1', 'C': 0.20000000000000001}, with and accuracy of: 0.662493768855\n",
      "             precision    recall  f1-score   support\n",
      "\n",
      "      False       0.98      0.77      0.86       776\n",
      "       True       0.10      0.59      0.17        34\n",
      "\n",
      "avg / total       0.94      0.76      0.83       810\n",
      "\n",
      "0.750617283951\n"
     ]
    },
    {
     "name": "stderr",
     "output_type": "stream",
     "text": [
      "[Parallel(n_jobs=1)]: Done  90 out of  90 | elapsed:    1.0s finished\n"
     ]
    }
   ],
   "source": [
    "def log_reg(train, dev, param_grid):\n",
    "    logreg = LogisticRegression()\n",
    "    logreg = GridSearchCV(logreg, param_grid, scoring='roc_auc', verbose=True, cv=5)\n",
    "    logreg.fit(train, train_labels)\n",
    "    print(\"Best C: {}, with and accuracy of: {}\".format(logreg.best_params_, logreg.best_score_))\n",
    "    pred = logreg.predict(dev)\n",
    "    print classification_report(pred, dev_labels)\n",
    "    return logreg\n",
    "    \n",
    "param_grid = [{'C': np.arange(.1, 1, .1), 'penalty': ['l1', 'l2']}]\n",
    "logreg = log_reg(train_data, dev_data, param_grid)\n",
    "print 1 - sum(dev_labels.astype(float))/len(dev_labels.astype(float))"
   ]
  },
  {
   "cell_type": "code",
   "execution_count": 132,
   "metadata": {
    "collapsed": false
   },
   "outputs": [
    {
     "name": "stdout",
     "output_type": "stream",
     "text": [
      "[ 0.75023213  0.7455896   0.74070632]\n",
      "0.771604938272\n",
      "             precision    recall  f1-score   support\n",
      "\n",
      "      False       0.97      0.78      0.86       753\n",
      "       True       0.18      0.65      0.29        57\n",
      "\n",
      "avg / total       0.91      0.77      0.82       810\n",
      "\n",
      "[[588  20]\n",
      " [165  37]]\n"
     ]
    }
   ],
   "source": [
    "def ada_boost():\n",
    "    \n",
    "    clf = AdaBoostClassifier(DecisionTreeClassifier(max_depth=1), n_estimators=290)\n",
    "    scores = cross_val_score(clf, train_data, train_labels)\n",
    "    print scores\n",
    "    clf.fit(train_data, train_labels)\n",
    "    pred = clf.predict(dev_data)\n",
    "    print clf.score(dev_data, dev_labels)\n",
    "    print classification_report(pred, dev_labels)\n",
    "\n",
    "    cm = confusion_matrix(dev_labels, pred)\n",
    "    print(cm)\n",
    "    \n",
    "    for i in range(len(pred)):\n",
    "        if pred[i] == 0 and dev_labels[i] == 1:\n",
    "            #print data_shuffle.all_text.iloc[[i]].tolist()[0]\n",
    "            pass\n",
    "    return clf\n",
    "\n",
    "    \n",
    "ada = ada_boost()"
   ]
  },
  {
   "cell_type": "code",
   "execution_count": 107,
   "metadata": {
    "collapsed": false
   },
   "outputs": [
    {
     "name": "stdout",
     "output_type": "stream",
     "text": [
      "0.753086419753\n",
      "             precision    recall  f1-score   support\n",
      "\n",
      "      False       0.99      0.76      0.86       798\n",
      "       True       0.03      0.58      0.07        12\n",
      "\n",
      "avg / total       0.98      0.75      0.85       810\n",
      "\n"
     ]
    }
   ],
   "source": [
    "def get_svc():\n",
    "    svc_params = {\"C\": uniform(), \"gamma\": uniform(), \"kernel\": ['linear', 'rbf'],\n",
    "                  \"class_weight\": [{1: 1}, {1: 2}, {1: 5}, {1: 10}], \"probability\": [True] }\n",
    "    svc = RandomizedSearchCV(SVC(), param_distributions=svc_params, n_iter=10)\n",
    "    svc.fit(train_data, train_labels)\n",
    "    preds = svc.predict(dev_data)\n",
    "    print svc.score(dev_data, dev_labels)\n",
    "    print classification_report(preds, dev_labels)\n",
    "    return svc\n",
    "\n",
    "\n",
    "svc = get_svc()"
   ]
  },
  {
   "cell_type": "code",
   "execution_count": 31,
   "metadata": {
    "collapsed": false
   },
   "outputs": [
    {
     "ename": "NameError",
     "evalue": "name 'ada_pred' is not defined",
     "output_type": "error",
     "traceback": [
      "\u001b[0;31m---------------------------------------------------------------------------\u001b[0m",
      "\u001b[0;31mNameError\u001b[0m                                 Traceback (most recent call last)",
      "\u001b[0;32m<ipython-input-31-74a04a150da7>\u001b[0m in \u001b[0;36m<module>\u001b[0;34m()\u001b[0m\n\u001b[1;32m      1\u001b[0m \u001b[0mfinal_pred\u001b[0m \u001b[0;34m=\u001b[0m \u001b[0;34m[\u001b[0m\u001b[0;34m]\u001b[0m\u001b[0;34m\u001b[0m\u001b[0m\n\u001b[0;32m----> 2\u001b[0;31m \u001b[0;32mfor\u001b[0m \u001b[0mi\u001b[0m \u001b[0;32min\u001b[0m \u001b[0mrange\u001b[0m\u001b[0;34m(\u001b[0m\u001b[0mlen\u001b[0m\u001b[0;34m(\u001b[0m\u001b[0mada_pred\u001b[0m\u001b[0;34m)\u001b[0m\u001b[0;34m)\u001b[0m\u001b[0;34m:\u001b[0m\u001b[0;34m\u001b[0m\u001b[0m\n\u001b[0m\u001b[1;32m      3\u001b[0m     \u001b[0mnew_pred\u001b[0m \u001b[0;34m=\u001b[0m \u001b[0;36m1.0\u001b[0m\u001b[0;34m*\u001b[0m\u001b[0;34m(\u001b[0m\u001b[0mint\u001b[0m\u001b[0;34m(\u001b[0m\u001b[0mada_pred\u001b[0m\u001b[0;34m[\u001b[0m\u001b[0mi\u001b[0m\u001b[0;34m]\u001b[0m\u001b[0;34m)\u001b[0m \u001b[0;34m+\u001b[0m \u001b[0mint\u001b[0m\u001b[0;34m(\u001b[0m\u001b[0mknn_pred\u001b[0m\u001b[0;34m[\u001b[0m\u001b[0mi\u001b[0m\u001b[0;34m]\u001b[0m\u001b[0;34m)\u001b[0m \u001b[0;34m+\u001b[0m \u001b[0mint\u001b[0m\u001b[0;34m(\u001b[0m\u001b[0mlogreg_pred\u001b[0m\u001b[0;34m[\u001b[0m\u001b[0mi\u001b[0m\u001b[0;34m]\u001b[0m\u001b[0;34m)\u001b[0m\u001b[0;34m)\u001b[0m\u001b[0;34m/\u001b[0m\u001b[0;36m3\u001b[0m\u001b[0;34m\u001b[0m\u001b[0m\n\u001b[1;32m      4\u001b[0m     \u001b[0;32mif\u001b[0m \u001b[0mnew_pred\u001b[0m \u001b[0;34m>\u001b[0m \u001b[0;36m.10\u001b[0m\u001b[0;34m:\u001b[0m\u001b[0;34m\u001b[0m\u001b[0m\n\u001b[1;32m      5\u001b[0m         \u001b[0mfinal_pred\u001b[0m\u001b[0;34m.\u001b[0m\u001b[0mappend\u001b[0m\u001b[0;34m(\u001b[0m\u001b[0mTrue\u001b[0m\u001b[0;34m)\u001b[0m\u001b[0;34m\u001b[0m\u001b[0m\n",
      "\u001b[0;31mNameError\u001b[0m: name 'ada_pred' is not defined"
     ]
    }
   ],
   "source": [
    "final_pred = []\n",
    "for i in range(len(ada_pred)):\n",
    "    new_pred = 1.0*(int(ada_pred[i]) + int(knn_pred[i]) + int(logreg_pred[i]))/3\n",
    "    if new_pred > .10:\n",
    "        final_pred.append(True)\n",
    "    else:\n",
    "        final_pred.append(False)\n",
    "\n",
    "correct = 0\n",
    "total = 0\n",
    "for j in range(len(final_pred)):\n",
    "    if final_pred[j] == dev_labels[j]:\n",
    "        correct += 1\n",
    "    total += 1\n",
    "print 1.0 * correct / total"
   ]
  },
  {
   "cell_type": "code",
   "execution_count": 79,
   "metadata": {
    "collapsed": false
   },
   "outputs": [
    {
     "name": "stdout",
     "output_type": "stream",
     "text": [
      "0.753086419753\n",
      "             precision    recall  f1-score   support\n",
      "\n",
      "      False       1.00      0.75      0.86       804\n",
      "       True       0.02      0.67      0.04         6\n",
      "\n",
      "avg / total       0.99      0.75      0.85       810\n",
      "\n",
      "[[606   2]\n",
      " [198   4]]\n"
     ]
    }
   ],
   "source": [
    "def bagging():\n",
    "    bagging = BaggingClassifier(AdaBoostClassifier(DecisionTreeClassifier(max_depth=1, min_samples_leaf=1), n_estimators=300, algorithm=\"SAMME\"), \n",
    "                               max_samples=.5, max_features=.5)\n",
    "    scores = cross_val_score(bagging, train_data, train_labels)\n",
    "    bagging.fit(train_data, train_labels)\n",
    "    pred = bagging.predict(dev_data)\n",
    "    print bagging.score(dev_data, dev_labels)\n",
    "    print classification_report(pred, dev_labels)\n",
    "\n",
    "    cm = confusion_matrix(dev_labels, pred)\n",
    "    print(cm)\n",
    "    \n",
    "    \n",
    "bagging()"
   ]
  },
  {
   "cell_type": "code",
   "execution_count": 115,
   "metadata": {
    "collapsed": false
   },
   "outputs": [
    {
     "name": "stdout",
     "output_type": "stream",
     "text": [
      "             precision    recall  f1-score   support\n",
      "\n",
      "          0       0.99      0.76      0.86       798\n",
      "          1       0.03      0.58      0.07        12\n",
      "\n",
      "avg / total       0.98      0.75      0.85       810\n",
      "\n",
      "0.753086419753\n"
     ]
    }
   ],
   "source": [
    "ada_pred = ada.predict(dev_data)\n",
    "ada_proba = ada.predict_proba(dev_data)\n",
    "svc_pred = svc.best_estimator_.predict(dev_data)\n",
    "svc_proba = svc.best_estimator_.predict_proba(dev_data)\n",
    "knn_pred = knn.predict(dev_data)\n",
    "logreg_proba_ = logreg.best_estimator_.predict_proba(dev_data)\n",
    "\n",
    "final_preds = []\n",
    "for i in range(len(ada_pred)):\n",
    "    if (ada_pred[i] != svc_pred[i] and ada_pred[i] != logreg_pred[i]):\n",
    "        final_preds.append(svc_pred[i])\n",
    "        #print ada_pred[i] == dev_labels[i]\n",
    "    else:\n",
    "        final_preds.append(ada_pred[i])\n",
    "\n",
    "def get_accuracy(final_preds):\n",
    "    correct = 0\n",
    "    total = 0\n",
    "    for j in range(len(final_preds)):\n",
    "        if final_preds[j] == dev_labels[j]:\n",
    "            correct += 1\n",
    "        total += 1\n",
    "    print 1.0 * correct / total \n",
    "        #print(\"Predict 1, but actually 0\")\n",
    "        #print svc.best_estimator_.predict_proba(dev_data)[i]\n",
    "        #print ada.predict_proba(dev_data)[i]\n",
    "        #print logreg.best_estimator_.predict_proba(dev_data)[i]\n",
    "\n",
    "#print ada_proba[:,1]\n",
    "adj_preds = map(lambda x: 1 if x >= .5 else 0, svc_proba[:,1])\n",
    "print classification_report(adj_preds, dev_labels)\n",
    "get_accuracy(adj_preds)"
   ]
  },
  {
   "cell_type": "code",
   "execution_count": 183,
   "metadata": {
    "collapsed": true
   },
   "outputs": [],
   "source": [
    "model_df_s = data[['karma_cat_2', 'near_midnight', 'link', 'img', 'gratitude_c',\n",
    "                   'post_length', 'requester_number_of_posts_on_raop_at_request', 'pos_words',\n",
    "                   'job_c', 'money_c', 'family_c', 'student_c', 'craving_c', 'request_title_length',\n",
    "                  'requester_number_of_comments_in_raop_at_request']]"
   ]
  }
 ],
 "metadata": {
  "kernelspec": {
   "display_name": "Python 2",
   "language": "python",
   "name": "python2"
  },
  "language_info": {
   "codemirror_mode": {
    "name": "ipython",
    "version": 2
   },
   "file_extension": ".py",
   "mimetype": "text/x-python",
   "name": "python",
   "nbconvert_exporter": "python",
   "pygments_lexer": "ipython2",
   "version": "2.7.6"
  }
 },
 "nbformat": 4,
 "nbformat_minor": 0
}
