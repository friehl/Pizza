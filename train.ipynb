{
 "cells": [
  {
   "cell_type": "code",
   "execution_count": 9,
   "metadata": {
    "collapsed": true
   },
   "outputs": [],
   "source": [
    "%matplotlib inline\n",
    "from __future__ import division\n",
    "\n",
    "import numpy as np\n",
    "import pandas as pd\n",
    "import json\n",
    "import csv\n",
    "import matplotlib.pyplot as plt\n",
    "\n",
    "# SK-learn libraries for learning.\n",
    "from sklearn import preprocessing\n",
    "from sklearn.pipeline import Pipeline\n",
    "from sklearn.neighbors import KNeighborsClassifier\n",
    "from sklearn.linear_model import LogisticRegression\n",
    "from sklearn.naive_bayes import BernoulliNB\n",
    "from sklearn.naive_bayes import MultinomialNB\n",
    "from sklearn.grid_search import GridSearchCV\n",
    "from sklearn.grid_search import RandomizedSearchCV\n",
    "from sklearn.tree import DecisionTreeClassifier\n",
    "from sklearn.tree import export_graphviz\n",
    "from sklearn.cross_validation import cross_val_score\n",
    "from sklearn.ensemble import AdaBoostClassifier\n",
    "from sklearn.ensemble import BaggingClassifier\n",
    "from sklearn.svm import SVC\n",
    "\n",
    "# Ensemble methods\n",
    "from sklearn.ensemble import RandomForestClassifier\n",
    "\n",
    "# SK-learn libraries for evaluation.\n",
    "from sklearn.metrics import confusion_matrix\n",
    "from sklearn import metrics\n",
    "from sklearn.metrics import classification_report\n",
    "\n",
    "# SK-learn libraries for feature extraction from text.\n",
    "from sklearn.feature_extraction.text import *\n",
    "\n",
    "from scipy.stats import uniform\n",
    "\n",
    "import pydot"
   ]
  },
  {
   "cell_type": "code",
   "execution_count": 10,
   "metadata": {
    "collapsed": false
   },
   "outputs": [],
   "source": [
    "# Load json dataset into pandas\n",
    "train = pd.read_json('train.json', convert_dates=['unix_timestamp_of_request'])\n",
    "test = pd.read_json('test.json', convert_dates=['unix_timestamp_of_request'])"
   ]
  },
  {
   "cell_type": "code",
   "execution_count": 11,
   "metadata": {
    "collapsed": false
   },
   "outputs": [],
   "source": [
    "# There are more columns in the train dataset than there are in the test dataset.  Remove the features\n",
    "# that aren't available in the test dataset because we won't be able to use them in the model\n",
    "def remove_train_features():\n",
    "    data_cols = set(train.columns.values)\n",
    "    test_cols = set(test.columns.values)\n",
    "    trim_data_cols = data_cols.intersection(test_cols)\n",
    "    return list(trim_data_cols)\n",
    "\n",
    "trim_data_cols = remove_train_features()\n",
    "trim_data_cols.append('requester_received_pizza') \n",
    "train = train[trim_data_cols]"
   ]
  },
  {
   "cell_type": "code",
   "execution_count": 12,
   "metadata": {
    "collapsed": true
   },
   "outputs": [],
   "source": [
    "import re\n",
    "def get_word_counts(df, word_list):\n",
    "    entry_count = []\n",
    "    for entry in df.all_text:\n",
    "        word_dict = dict((x,0) for x in word_list)\n",
    "        for word in re.findall(r\"\\w+\", entry):\n",
    "            if word in word_dict:\n",
    "                word_dict[word] += 1\n",
    "        entry_count.append(sum(word_dict.values()))\n",
    "    return pd.Series(entry_count)"
   ]
  },
  {
   "cell_type": "code",
   "execution_count": 13,
   "metadata": {
    "collapsed": true
   },
   "outputs": [],
   "source": [
    "# Topics and keywords from paper\n",
    "job = ['work', 'paycheck', 'unemployment', 'interview', 'fired', 'unemployment', 'hire', 'hired']\n",
    "money = ['money', 'now', 'broke', 'week', 'until', 'time', 'last', 'day', 'when', 'today', 'tonight', 'paid', 'next', 'first', 'night', 'after', 'tomorrow', 'month', 'while', 'account', 'before', 'long', 'Friday', 'rent', 'buy', 'bank', 'still', 'bills', 'ago', 'cash', 'due', 'past', 'never', 'paycheck', 'check', 'spent', 'years', 'poor', 'till', 'yesterday', 'morning', 'dollars', 'financial', 'hour', 'bill', 'evening', 'credit', 'budget', 'loan', 'bucks', 'deposit', 'dollar', 'current', 'payed']\n",
    "student = ['college', 'student', 'school', 'roommate', 'studying', 'semester', 'university', 'finals', 'study', 'class', 'project', 'dorm', 'tuition']\n",
    "family = ['family', 'mom', 'wife', 'wifey', 'parents', 'mother', 'husband', 'dad', 'son', 'daughter', 'father', 'parent', 'mom', 'baby', 'born', 'newborn', 'kid', 'children', 'child']\n",
    "craving = ['friend', 'girlfriend', 'craving', 'birthday', 'boyfriend', 'celebrate', 'party', 'game', 'games', 'movie', 'date', 'drunk', 'beer', 'celebrating', 'invited', 'drinks', 'crave', 'wasted', 'invite']\n",
    "gratitude = ['pay', 'forward', 'thank', 'thanks', 'blessed', 'bless', 'grateful', 'reciprocate', 'back', 'teach']\n",
    "food = ['vegetable', 'vegetables', 'ramen', 'oatmeal']\n",
    "pos_words = ['jpg', 'trade', 'blue', 'use', 'make', 'pretty', 'forward', 'friday', 'boyfriend', 'll', 'scarf']"
   ]
  },
  {
   "cell_type": "code",
   "execution_count": 14,
   "metadata": {
    "collapsed": false
   },
   "outputs": [],
   "source": [
    "# Feature creation\n",
    "def encode_features(df, fte):\n",
    "    '''create dummy variables for categorical data'''\n",
    "    for feature in fte:\n",
    "        df = df.join(pd.get_dummies(df[feature], prefix=feature))\n",
    "    return df\n",
    "\n",
    "def preprocess(df):\n",
    "    df['karma_cat_2'] = np.where(df.requester_upvotes_minus_downvotes_at_request <= 10, 0, 1)\n",
    "    df['all_text'] = [df.request_title.iloc[[i]].tolist()[0] + ' ' + df.request_text_edit_aware.iloc[[i]].tolist()[0]\n",
    "                    for i in range(df.shape[0])]\n",
    "    df['job_c'] = get_word_counts(df, job)\n",
    "    df['money_c'] = get_word_counts(df, money)\n",
    "    df['student_c'] = get_word_counts(df, student)\n",
    "    df['family_c'] = get_word_counts(df, family)\n",
    "    df['craving_c'] = get_word_counts(df, craving)\n",
    "    df['gratitude_c'] = get_word_counts(df, gratitude)\n",
    "    df['food_c'] = get_word_counts(df, food)\n",
    "    df['pos_words'] = get_word_counts(df, pos_words)\n",
    "    df['exclamation_c'] = map(lambda x: len(re.findall(r'(!)|(:\\))', x)), df['all_text'])\n",
    "    df['post_length'] = df['request_text_edit_aware'].map(lambda x: len(x))\n",
    "    df['request_title_length'] = df['request_title'].map(lambda x: len(x))\n",
    "    df['link'] = map(lambda x: 1 if x.find('http') > 0 else 0, df['request_text_edit_aware'])\n",
    "    df['img'] = map(lambda x: 1 if x.find('img') > 0 else 0, df['request_text_edit_aware'])\n",
    "    df['weekday'] = map(lambda x: x.weekday(), df['unix_timestamp_of_request'])\n",
    "    df['month'] = map(lambda x: x.month, df['unix_timestamp_of_request'])\n",
    "    df['hour'] = map(lambda x: x.hour, df['unix_timestamp_of_request'])\n",
    "    df['afternoon'] = map(lambda x: 1 if (x >= 13 and x <= 19) else 0, df['hour'])\n",
    "    df['link_or_img'] = map(lambda x: 1 if x.find('img') > 0 or x.find('http') > 0 else 0, df['request_text_edit_aware'])\n",
    "    df['time_c'] = map(lambda x: 1 if x >= 1342561000 else 0, df['unix_timestamp_of_request_utc'])\n",
    "\n",
    "    features_to_encode = ['weekday', 'hour', 'month']\n",
    "    encode_features(df, features_to_encode)\n",
    "    \n",
    "    return df"
   ]
  },
  {
   "cell_type": "code",
   "execution_count": 22,
   "metadata": {
    "collapsed": false
   },
   "outputs": [],
   "source": [
    "train_preprocess = preprocess(train)\n",
    "test_preprocess = preprocess(test)"
   ]
  },
  {
   "cell_type": "code",
   "execution_count": 15,
   "metadata": {
    "collapsed": false
   },
   "outputs": [],
   "source": [
    "features = ['karma_cat_2', 'afternoon', 'link', 'img', 'gratitude_c',\n",
    "                   'post_length', 'requester_number_of_posts_on_raop_at_request',\n",
    "                   'job_c', 'money_c', 'family_c', 'student_c', 'craving_c', 'request_title_length',\n",
    "                  'requester_number_of_comments_in_raop_at_request', 'time_c']\n",
    "\n",
    "train_pre = preprocess(train)\n",
    "test_pre = preprocess(test)\n",
    "\n",
    "train_pre = train_pre[features]\n",
    "test_pre = test_pre[features]\n",
    "\n",
    "scaler = scalar = preprocessing.StandardScaler()\n",
    "scaler.fit(train_pre.values)\n",
    "\n",
    "train_sc = scalar.transform(train_pre.values)\n",
    "\n",
    "np.random.seed(0)\n",
    "shuffle = np.random.permutation(np.arange(train.shape[0]))\n",
    "\n",
    "# Pull out text features\n",
    "train_length = 3230\n",
    "data_mat, labels = train_sc[shuffle], train.requester_received_pizza.values[shuffle]\n",
    "\n",
    "# shuffle training data for error analysis\n",
    "data_shuffle = pd.DataFrame(train, index=shuffle)\n",
    "\n",
    "train_data, train_labels = data_mat[:train_length], labels[:train_length]\n",
    "dev_data, dev_labels = data_mat[train_length:], labels[train_length:]\n",
    "\n",
    "test_data = scalar.transform(test_pre.values)"
   ]
  },
  {
   "cell_type": "code",
   "execution_count": 16,
   "metadata": {
    "collapsed": false
   },
   "outputs": [
    {
     "name": "stdout",
     "output_type": "stream",
     "text": [
      "[ 0.75487465  0.75116063  0.7527881 ]\n",
      "0.77037037037\n",
      "             precision    recall  f1-score   support\n",
      "\n",
      "      False       0.97      0.78      0.86       752\n",
      "       True       0.18      0.64      0.28        58\n",
      "\n",
      "avg / total       0.91      0.77      0.82       810\n",
      "\n",
      "[[587  21]\n",
      " [165  37]]\n"
     ]
    }
   ],
   "source": [
    "def ada_boost():\n",
    "    \n",
    "    clf = AdaBoostClassifier(DecisionTreeClassifier(max_depth=1), n_estimators=290)\n",
    "    scores = cross_val_score(clf, train_data, train_labels)\n",
    "    print scores\n",
    "    clf.fit(train_data, train_labels)\n",
    "    pred = clf.predict(dev_data)\n",
    "    print clf.score(dev_data, dev_labels)\n",
    "    print classification_report(pred, dev_labels)\n",
    "\n",
    "    cm = confusion_matrix(dev_labels, pred)\n",
    "    print(cm)\n",
    "    \n",
    "    for i in range(len(pred)):\n",
    "        if pred[i] == 0 and dev_labels[i] == 1:\n",
    "            #print data_shuffle.all_text.iloc[[i]].tolist()[0]\n",
    "            pass\n",
    "    return clf\n",
    "\n",
    "    \n",
    "ada = ada_boost()"
   ]
  },
  {
   "cell_type": "code",
   "execution_count": 43,
   "metadata": {
    "collapsed": false
   },
   "outputs": [],
   "source": [
    "test_preds = map(lambda x: 1 if x == True else 0, ada.predict(test_data))\n",
    "request_ids = test['request_id'].values"
   ]
  },
  {
   "cell_type": "code",
   "execution_count": 19,
   "metadata": {
    "collapsed": false
   },
   "outputs": [],
   "source": [
    "with open('submission.csv', 'wb') as csvfile:\n",
    "    outputwriter = csv.writer(csvfile, delimiter=',',quotechar='|', quoting=csv.QUOTE_MINIMAL)\n",
    "    outputwriter.writerow(['request_id'] + ['requester_received_pizza'])\n",
    "    \n",
    "    for i in range(len(request_ids)):\n",
    "        outputwriter.writerow([request_ids[i], str(test_preds[i])])\n"
   ]
  },
  {
   "cell_type": "code",
   "execution_count": null,
   "metadata": {
    "collapsed": true
   },
   "outputs": [],
   "source": []
  }
 ],
 "metadata": {
  "kernelspec": {
   "display_name": "Python 2",
   "language": "python",
   "name": "python2"
  },
  "language_info": {
   "codemirror_mode": {
    "name": "ipython",
    "version": 2
   },
   "file_extension": ".py",
   "mimetype": "text/x-python",
   "name": "python",
   "nbconvert_exporter": "python",
   "pygments_lexer": "ipython2",
   "version": "2.7.9"
  }
 },
 "nbformat": 4,
 "nbformat_minor": 0
}
