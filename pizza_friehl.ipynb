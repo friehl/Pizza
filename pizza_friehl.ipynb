{
 "cells": [
  {
   "cell_type": "code",
   "execution_count": 2,
   "metadata": {
    "collapsed": true
   },
   "outputs": [],
   "source": [
    "%matplotlib inline\n",
    "from __future__ import division\n",
    "\n",
    "import numpy as np\n",
    "import pandas as pd\n",
    "import json\n",
    "import matplotlib.pyplot as plt\n",
    "\n",
    "# SK-learn libraries for learning.\n",
    "from sklearn import preprocessing\n",
    "from sklearn.pipeline import Pipeline\n",
    "from sklearn.neighbors import KNeighborsClassifier\n",
    "from sklearn.linear_model import LogisticRegression\n",
    "from sklearn.naive_bayes import BernoulliNB\n",
    "from sklearn.naive_bayes import MultinomialNB\n",
    "from sklearn.grid_search import GridSearchCV\n",
    "from sklearn.tree import DecisionTreeClassifier\n",
    "from sklearn.tree import export_graphviz\n",
    "\n",
    "# Ensemble methods\n",
    "from sklearn.ensemble import RandomForestClassifier\n",
    "\n",
    "# SK-learn libraries for evaluation.\n",
    "from sklearn.metrics import confusion_matrix\n",
    "from sklearn import metrics\n",
    "from sklearn.metrics import classification_report\n",
    "\n",
    "# SK-learn libraries for feature extraction from text.\n",
    "from sklearn.feature_extraction.text import *\n",
    "\n",
    "import pydot"
   ]
  },
  {
   "cell_type": "code",
   "execution_count": 3,
   "metadata": {
    "collapsed": true
   },
   "outputs": [],
   "source": [
    "# Load json dataset into pandas\n",
    "data = pd.read_json('train.json')\n",
    "test = pd.read_json('test.json')"
   ]
  },
  {
   "cell_type": "code",
   "execution_count": 4,
   "metadata": {
    "collapsed": true
   },
   "outputs": [],
   "source": [
    "data['requester_received_pizza'] = data['requester_received_pizza'].map({False: 0, True:1}).astype(int)\n",
    "# post_was_edited has bad data - includes unix timestamps. need to convert to 1s\n",
    "data['post_was_edited'] = data['post_was_edited'].map(lambda x: 1 if x > 0 else 0)\n",
    "labels = data['requester_received_pizza']\n",
    "del data['requester_received_pizza']"
   ]
  },
  {
   "cell_type": "code",
   "execution_count": 5,
   "metadata": {
    "collapsed": true
   },
   "outputs": [],
   "source": [
    "def remove_train_features():\n",
    "    data_cols = set(data.columns.values)\n",
    "    test_cols = set(test.columns.values)\n",
    "    trim_data_cols = data_cols.intersection(test_cols)\n",
    "    return list(trim_data_cols)\n",
    "\n",
    "trim_data_cols = remove_train_features()\n",
    "data = data[trim_data_cols]"
   ]
  },
  {
   "cell_type": "code",
   "execution_count": 6,
   "metadata": {
    "collapsed": false
   },
   "outputs": [],
   "source": [
    "def choose_features():\n",
    "    # include columns from loop above...add other logic to easily adjust features, run against other models\n",
    "    # potential list ['unix_timestamp_of_request', 'unix_timestamp_of_request_utc']\n",
    "    dtypes = data.columns.to_series().groupby(data.dtypes).groups\n",
    "    cols = dtypes[np.dtype('int64')] + dtypes[np.dtype('float64')]\n",
    "    # potentials to exclude:\n",
    "    # ['unix_timestamp_of_request', 'unix_timestamp_of_request_utc']\n",
    "    cols_to_exclude = ['unix_timestamp_of_request', 'unix_timestamp_of_request_utc']\n",
    "    s_cols = set(cols)\n",
    "    s_cols.difference_update(cols_to_exclude)\n",
    "    return list(s_cols)\n",
    "\n",
    "m_features = choose_features()"
   ]
  },
  {
   "cell_type": "code",
   "execution_count": 7,
   "metadata": {
    "collapsed": false
   },
   "outputs": [
    {
     "name": "stdout",
     "output_type": "stream",
     "text": [
      "<class 'pandas.core.frame.DataFrame'>\n",
      "Int64Index: 4040 entries, 0 to 4039\n",
      "Data columns (total 17 columns):\n",
      "request_title                                         4040 non-null object\n",
      "unix_timestamp_of_request                             4040 non-null int64\n",
      "giver_username_if_known                               4040 non-null object\n",
      "requester_days_since_first_post_on_raop_at_request    4040 non-null float64\n",
      "requester_subreddits_at_request                       4040 non-null object\n",
      "requester_account_age_in_days_at_request              4040 non-null float64\n",
      "requester_number_of_posts_on_raop_at_request          4040 non-null int64\n",
      "requester_upvotes_plus_downvotes_at_request           4040 non-null int64\n",
      "request_text_edit_aware                               4040 non-null object\n",
      "request_id                                            4040 non-null object\n",
      "requester_number_of_comments_at_request               4040 non-null int64\n",
      "requester_number_of_posts_at_request                  4040 non-null int64\n",
      "requester_number_of_subreddits_at_request             4040 non-null int64\n",
      "requester_upvotes_minus_downvotes_at_request          4040 non-null int64\n",
      "requester_number_of_comments_in_raop_at_request       4040 non-null int64\n",
      "unix_timestamp_of_request_utc                         4040 non-null int64\n",
      "requester_username                                    4040 non-null object\n",
      "dtypes: float64(2), int64(9), object(6)\n",
      "memory usage: 568.1+ KB\n",
      "None\n"
     ]
    }
   ],
   "source": [
    "print data.info()"
   ]
  },
  {
   "cell_type": "code",
   "execution_count": 8,
   "metadata": {
    "collapsed": false
   },
   "outputs": [
    {
     "name": "stdout",
     "output_type": "stream",
     "text": [
      "       unix_timestamp_of_request  \\\n",
      "count               4.040000e+03   \n",
      "mean                1.342829e+09   \n",
      "std                 2.333057e+07   \n",
      "min                 1.297723e+09   \n",
      "25%                 1.320469e+09   \n",
      "50%                 1.342565e+09   \n",
      "75%                 1.364618e+09   \n",
      "max                 1.381552e+09   \n",
      "\n",
      "       requester_days_since_first_post_on_raop_at_request  \\\n",
      "count                                        4040.000000    \n",
      "mean                                           16.417034    \n",
      "std                                            70.651428    \n",
      "min                                             0.000000    \n",
      "25%                                             0.000000    \n",
      "50%                                             0.000000    \n",
      "75%                                             0.000000    \n",
      "max                                           785.457685    \n",
      "\n",
      "       requester_account_age_in_days_at_request  \\\n",
      "count                               4040.000000   \n",
      "mean                                 254.586579   \n",
      "std                                  303.275730   \n",
      "min                                    0.000000   \n",
      "25%                                    3.473168   \n",
      "50%                                  157.067170   \n",
      "75%                                  390.092653   \n",
      "max                                 2809.750787   \n",
      "\n",
      "       requester_number_of_posts_on_raop_at_request  \\\n",
      "count                                   4040.000000   \n",
      "mean                                       0.063614   \n",
      "std                                        0.325773   \n",
      "min                                        0.000000   \n",
      "25%                                        0.000000   \n",
      "50%                                        0.000000   \n",
      "75%                                        0.000000   \n",
      "max                                        5.000000   \n",
      "\n",
      "       requester_upvotes_plus_downvotes_at_request  \\\n",
      "count                                  4040.000000   \n",
      "mean                                   3743.235891   \n",
      "std                                   25838.161173   \n",
      "min                                       0.000000   \n",
      "25%                                       9.000000   \n",
      "50%                                     351.000000   \n",
      "75%                                    2303.750000   \n",
      "max                                 1286864.000000   \n",
      "\n",
      "       requester_number_of_comments_at_request  \\\n",
      "count                              4040.000000   \n",
      "mean                                115.098267   \n",
      "std                                 193.318968   \n",
      "min                                   0.000000   \n",
      "25%                                   0.000000   \n",
      "50%                                  24.000000   \n",
      "75%                                 140.250000   \n",
      "max                                 994.000000   \n",
      "\n",
      "       requester_number_of_posts_at_request  \\\n",
      "count                           4040.000000   \n",
      "mean                              21.601485   \n",
      "std                               50.895060   \n",
      "min                                0.000000   \n",
      "25%                                0.000000   \n",
      "50%                                5.000000   \n",
      "75%                               22.000000   \n",
      "max                              867.000000   \n",
      "\n",
      "       requester_number_of_subreddits_at_request  \\\n",
      "count                                4040.000000   \n",
      "mean                                   18.076733   \n",
      "std                                    21.736465   \n",
      "min                                     0.000000   \n",
      "25%                                     1.000000   \n",
      "50%                                    11.000000   \n",
      "75%                                    27.000000   \n",
      "max                                   186.000000   \n",
      "\n",
      "       requester_upvotes_minus_downvotes_at_request  \\\n",
      "count                                   4040.000000   \n",
      "mean                                    1160.079950   \n",
      "std                                     3718.365515   \n",
      "min                                     -173.000000   \n",
      "25%                                        3.000000   \n",
      "50%                                      174.500000   \n",
      "75%                                     1163.750000   \n",
      "max                                   155010.000000   \n",
      "\n",
      "       requester_number_of_comments_in_raop_at_request  \\\n",
      "count                                      4040.000000   \n",
      "mean                                          0.645050   \n",
      "std                                           3.413813   \n",
      "min                                           0.000000   \n",
      "25%                                           0.000000   \n",
      "50%                                           0.000000   \n",
      "75%                                           0.000000   \n",
      "max                                          88.000000   \n",
      "\n",
      "       unix_timestamp_of_request_utc  \n",
      "count                   4.040000e+03  \n",
      "mean                    1.342826e+09  \n",
      "std                     2.332989e+07  \n",
      "min                     1.297723e+09  \n",
      "25%                     1.320466e+09  \n",
      "50%                     1.342561e+09  \n",
      "75%                     1.364614e+09  \n",
      "max                     1.381523e+09  \n"
     ]
    }
   ],
   "source": [
    "print data.describe()"
   ]
  },
  {
   "cell_type": "code",
   "execution_count": 9,
   "metadata": {
    "collapsed": false
   },
   "outputs": [
    {
     "data": {
      "text/html": [
       "<div style=\"max-height:1000px;max-width:1500px;overflow:auto;\">\n",
       "<table border=\"1\" class=\"dataframe\">\n",
       "  <thead>\n",
       "    <tr style=\"text-align: right;\">\n",
       "      <th>requester_received_pizza</th>\n",
       "      <th>0</th>\n",
       "      <th>1</th>\n",
       "    </tr>\n",
       "    <tr>\n",
       "      <th>requester_upvotes_minus_downvotes_at_request</th>\n",
       "      <th></th>\n",
       "      <th></th>\n",
       "    </tr>\n",
       "  </thead>\n",
       "  <tbody>\n",
       "    <tr>\n",
       "      <th>low</th>\n",
       "      <td>3045</td>\n",
       "      <td>993</td>\n",
       "    </tr>\n",
       "    <tr>\n",
       "      <th>high</th>\n",
       "      <td>1</td>\n",
       "      <td>1</td>\n",
       "    </tr>\n",
       "  </tbody>\n",
       "</table>\n",
       "</div>"
      ],
      "text/plain": [
       "requester_received_pizza                         0    1\n",
       "requester_upvotes_minus_downvotes_at_request           \n",
       "low                                           3045  993\n",
       "high                                             1    1"
      ]
     },
     "execution_count": 9,
     "metadata": {},
     "output_type": "execute_result"
    }
   ],
   "source": [
    "x = pd.cut(data.requester_upvotes_minus_downvotes_at_request, 2, labels=[\"low\", \"high\"])\n",
    "pd.crosstab(x, labels)"
   ]
  },
  {
   "cell_type": "code",
   "execution_count": 20,
   "metadata": {
    "collapsed": false
   },
   "outputs": [
    {
     "ename": "AttributeError",
     "evalue": "'numpy.ndarray' object has no attribute 'plot'",
     "output_type": "error",
     "traceback": [
      "\u001b[0;31m---------------------------------------------------------------------------\u001b[0m",
      "\u001b[0;31mAttributeError\u001b[0m                            Traceback (most recent call last)",
      "\u001b[0;32m<ipython-input-20-63f80b72b92b>\u001b[0m in \u001b[0;36m<module>\u001b[0;34m()\u001b[0m\n\u001b[1;32m      7\u001b[0m \u001b[0;34m\u001b[0m\u001b[0m\n\u001b[1;32m      8\u001b[0m \u001b[0mplt\u001b[0m\u001b[0;34m.\u001b[0m\u001b[0mfigure\u001b[0m\u001b[0;34m(\u001b[0m\u001b[0;34m)\u001b[0m\u001b[0;34m\u001b[0m\u001b[0m\n\u001b[0;32m----> 9\u001b[0;31m \u001b[0mnp\u001b[0m\u001b[0;34m.\u001b[0m\u001b[0mwhere\u001b[0m\u001b[0;34m(\u001b[0m\u001b[0mdata\u001b[0m\u001b[0;34m.\u001b[0m\u001b[0mrequester_upvotes_minus_downvotes_at_request\u001b[0m \u001b[0;34m<=\u001b[0m \u001b[0;36m0\u001b[0m\u001b[0;34m,\u001b[0m \u001b[0;36m0\u001b[0m\u001b[0;34m,\u001b[0m \u001b[0;36m1\u001b[0m\u001b[0;34m)\u001b[0m\u001b[0;34m.\u001b[0m\u001b[0mplot\u001b[0m\u001b[0;34m(\u001b[0m\u001b[0mkind\u001b[0m\u001b[0;34m=\u001b[0m\u001b[0;34m'bar'\u001b[0m\u001b[0;34m)\u001b[0m\u001b[0;34m\u001b[0m\u001b[0m\n\u001b[0m\u001b[1;32m     10\u001b[0m \u001b[0mplt\u001b[0m\u001b[0;34m.\u001b[0m\u001b[0maxhline\u001b[0m\u001b[0;34m(\u001b[0m\u001b[0;36m0\u001b[0m\u001b[0;34m,\u001b[0m \u001b[0mcolor\u001b[0m\u001b[0;34m=\u001b[0m\u001b[0;34m'k'\u001b[0m\u001b[0;34m)\u001b[0m\u001b[0;34m\u001b[0m\u001b[0m\n\u001b[1;32m     11\u001b[0m \u001b[0mplt\u001b[0m\u001b[0;34m.\u001b[0m\u001b[0mshow\u001b[0m\u001b[0;34m(\u001b[0m\u001b[0;34m)\u001b[0m\u001b[0;34m\u001b[0m\u001b[0m\n",
      "\u001b[0;31mAttributeError\u001b[0m: 'numpy.ndarray' object has no attribute 'plot'"
     ]
    },
    {
     "data": {
      "text/plain": [
       "<matplotlib.figure.Figure at 0x115935c50>"
      ]
     },
     "metadata": {},
     "output_type": "display_data"
    }
   ],
   "source": [
    "# requester_upvotes_minus_downvotes_at_request\n",
    "x = np.where(data.requester_upvotes_minus_downvotes_at_request <= 0, 0, \n",
    "         np.where((data.requester_upvotes_minus_downvotes_at_request > 0) & \n",
    "                  (data.requester_upvotes_minus_downvotes_at_request <=100), 1, 2))\n",
    "x_1 = np.where(data.requester_upvotes_minus_downvotes_at_request <= 0, 0, 1)\n",
    "pd.crosstab(x_1, labels).apply(lambda r: r/r.sum(), axis=1)\n",
    "\n",
    "plt.figure()\n",
    "data.requester_upvotes_minus_downvotes_at_request.plot(kind='bar')\n",
    "plt.axhline(0, color='k')\n",
    "#pd.crosstab(x_1, labels)"
   ]
  },
  {
   "cell_type": "code",
   "execution_count": 18,
   "metadata": {
    "collapsed": false
   },
   "outputs": [
    {
     "data": {
      "text/html": [
       "<div style=\"max-height:1000px;max-width:1500px;overflow:auto;\">\n",
       "<table border=\"1\" class=\"dataframe\">\n",
       "  <thead>\n",
       "    <tr style=\"text-align: right;\">\n",
       "      <th>requester_received_pizza</th>\n",
       "      <th>0</th>\n",
       "      <th>1</th>\n",
       "    </tr>\n",
       "    <tr>\n",
       "      <th>row_0</th>\n",
       "      <th></th>\n",
       "      <th></th>\n",
       "    </tr>\n",
       "  </thead>\n",
       "  <tbody>\n",
       "    <tr>\n",
       "      <th>0</th>\n",
       "      <td>0.807179</td>\n",
       "      <td>0.192821</td>\n",
       "    </tr>\n",
       "    <tr>\n",
       "      <th>1</th>\n",
       "      <td>0.731527</td>\n",
       "      <td>0.268473</td>\n",
       "    </tr>\n",
       "  </tbody>\n",
       "</table>\n",
       "</div>"
      ],
      "text/plain": [
       "requester_received_pizza         0         1\n",
       "row_0                                       \n",
       "0                         0.807179  0.192821\n",
       "1                         0.731527  0.268473"
      ]
     },
     "execution_count": 18,
     "metadata": {},
     "output_type": "execute_result"
    }
   ],
   "source": [
    "# requester_number_of_posts_at_request \n",
    "req = np.where(data.requester_number_of_posts_at_request == 0, 0, 1)\n",
    "pd.crosstab(req, labels).apply(lambda r: r/r.sum(), axis=1)"
   ]
  },
  {
   "cell_type": "code",
   "execution_count": 17,
   "metadata": {
    "collapsed": false
   },
   "outputs": [
    {
     "data": {
      "text/html": [
       "<div style=\"max-height:1000px;max-width:1500px;overflow:auto;\">\n",
       "<table border=\"1\" class=\"dataframe\">\n",
       "  <thead>\n",
       "    <tr style=\"text-align: right;\">\n",
       "      <th>requester_received_pizza</th>\n",
       "      <th>0</th>\n",
       "      <th>1</th>\n",
       "    </tr>\n",
       "    <tr>\n",
       "      <th>requester_number_of_posts_on_raop_at_request</th>\n",
       "      <th></th>\n",
       "      <th></th>\n",
       "    </tr>\n",
       "  </thead>\n",
       "  <tbody>\n",
       "    <tr>\n",
       "      <th>0</th>\n",
       "      <td>0.765593</td>\n",
       "      <td>0.234407</td>\n",
       "    </tr>\n",
       "    <tr>\n",
       "      <th>1</th>\n",
       "      <td>0.582192</td>\n",
       "      <td>0.417808</td>\n",
       "    </tr>\n",
       "    <tr>\n",
       "      <th>2</th>\n",
       "      <td>0.411765</td>\n",
       "      <td>0.588235</td>\n",
       "    </tr>\n",
       "    <tr>\n",
       "      <th>3</th>\n",
       "      <td>0.125000</td>\n",
       "      <td>0.875000</td>\n",
       "    </tr>\n",
       "    <tr>\n",
       "      <th>4</th>\n",
       "      <td>0.000000</td>\n",
       "      <td>1.000000</td>\n",
       "    </tr>\n",
       "    <tr>\n",
       "      <th>5</th>\n",
       "      <td>0.000000</td>\n",
       "      <td>1.000000</td>\n",
       "    </tr>\n",
       "  </tbody>\n",
       "</table>\n",
       "</div>"
      ],
      "text/plain": [
       "requester_received_pizza                             0         1\n",
       "requester_number_of_posts_on_raop_at_request                    \n",
       "0                                             0.765593  0.234407\n",
       "1                                             0.582192  0.417808\n",
       "2                                             0.411765  0.588235\n",
       "3                                             0.125000  0.875000\n",
       "4                                             0.000000  1.000000\n",
       "5                                             0.000000  1.000000"
      ]
     },
     "execution_count": 17,
     "metadata": {},
     "output_type": "execute_result"
    }
   ],
   "source": [
    "p = data.requester_number_of_posts_on_raop_at_request\n",
    "pd.crosstab(p, labels).apply(lambda r: r/r.sum(), axis=1)"
   ]
  },
  {
   "cell_type": "code",
   "execution_count": 22,
   "metadata": {
    "collapsed": false
   },
   "outputs": [],
   "source": [
    "df = pd.DataFrame(x_1, columns=['requester_upvotes_minus_downvotes_at_request'])\n",
    "df['requester_number_of_posts_at_request'] = req"
   ]
  },
  {
   "cell_type": "code",
   "execution_count": null,
   "metadata": {
    "collapsed": false
   },
   "outputs": [],
   "source": []
  },
  {
   "cell_type": "code",
   "execution_count": 12,
   "metadata": {
    "collapsed": false
   },
   "outputs": [],
   "source": [
    "np.random.seed(0)\n",
    "shuffle = np.random.permutation(np.arange(data.shape[0]))\n",
    "train_length = 3230\n",
    "\n",
    "feat_train_data, feat_train_labels = df.values, labels.values\n",
    "feat_train_data, feat_train_labels = feat_train_data[shuffle], feat_train_labels[shuffle]\n",
    "\n",
    "train_data, train_labels = feat_train_data[:train_length], feat_train_labels[:train_length]\n",
    "dev_data, dev_labels = feat_train_data[train_length:], feat_train_labels[train_length:]"
   ]
  },
  {
   "cell_type": "code",
   "execution_count": 19,
   "metadata": {
    "collapsed": false
   },
   "outputs": [
    {
     "name": "stdout",
     "output_type": "stream",
     "text": [
      "mean: 0.75480, std: 0.00011, params: {'alpha': 0.0}\n",
      "mean: 0.75480, std: 0.00011, params: {'alpha': 0.0001}\n",
      "mean: 0.75480, std: 0.00011, params: {'alpha': 0.001}\n",
      "mean: 0.75480, std: 0.00011, params: {'alpha': 0.01}\n",
      "mean: 0.75480, std: 0.00011, params: {'alpha': 0.1}\n",
      "mean: 0.75480, std: 0.00011, params: {'alpha': 0.5}\n",
      "mean: 0.75480, std: 0.00011, params: {'alpha': 1.0}\n",
      "mean: 0.75480, std: 0.00011, params: {'alpha': 2.0}\n",
      "mean: 0.75480, std: 0.00011, params: {'alpha': 10.0}\n",
      "0.75479876161\n"
     ]
    }
   ],
   "source": [
    "def get_mnb(alphas):\n",
    "    mnb = BernoulliNB()\n",
    "    mnb = GridSearchCV(mnb, alphas)\n",
    "    mnb.fit(train_data, train_labels)\n",
    "    for i in mnb.grid_scores_:\n",
    "        print i\n",
    "    print mnb.best_score_\n",
    "\n",
    "    \n",
    "alphas = {'alpha': [0.0, 0.0001, 0.001, 0.01, 0.1, 0.5, 1.0, 2.0, 10.0]}\n",
    "get_mnb(alphas)"
   ]
  },
  {
   "cell_type": "code",
   "execution_count": 17,
   "metadata": {
    "collapsed": false
   },
   "outputs": [
    {
     "name": "stdout",
     "output_type": "stream",
     "text": [
      "      requester_upvotes_minus_downvotes_at_request  \\\n",
      "0                                                0   \n",
      "1                                                1   \n",
      "2                                                0   \n",
      "3                                                1   \n",
      "4                                                1   \n",
      "5                                                1   \n",
      "6                                                0   \n",
      "7                                                1   \n",
      "8                                                1   \n",
      "9                                                1   \n",
      "10                                               1   \n",
      "11                                               0   \n",
      "12                                               0   \n",
      "13                                               1   \n",
      "14                                               1   \n",
      "15                                               1   \n",
      "16                                               1   \n",
      "17                                               1   \n",
      "18                                               1   \n",
      "19                                               1   \n",
      "20                                               0   \n",
      "21                                               1   \n",
      "22                                               1   \n",
      "23                                               0   \n",
      "24                                               1   \n",
      "25                                               1   \n",
      "26                                               1   \n",
      "27                                               0   \n",
      "28                                               1   \n",
      "29                                               1   \n",
      "...                                            ...   \n",
      "4010                                             1   \n",
      "4011                                             1   \n",
      "4012                                             1   \n",
      "4013                                             1   \n",
      "4014                                             1   \n",
      "4015                                             0   \n",
      "4016                                             1   \n",
      "4017                                             1   \n",
      "4018                                             1   \n",
      "4019                                             0   \n",
      "4020                                             1   \n",
      "4021                                             1   \n",
      "4022                                             1   \n",
      "4023                                             1   \n",
      "4024                                             1   \n",
      "4025                                             1   \n",
      "4026                                             1   \n",
      "4027                                             1   \n",
      "4028                                             1   \n",
      "4029                                             1   \n",
      "4030                                             1   \n",
      "4031                                             1   \n",
      "4032                                             1   \n",
      "4033                                             1   \n",
      "4034                                             1   \n",
      "4035                                             0   \n",
      "4036                                             1   \n",
      "4037                                             1   \n",
      "4038                                             1   \n",
      "4039                                             1   \n",
      "\n",
      "      requester_number_of_posts_at_request  \n",
      "0                                        0  \n",
      "1                                        1  \n",
      "2                                        0  \n",
      "3                                        1  \n",
      "4                                        1  \n",
      "5                                        1  \n",
      "6                                        0  \n",
      "7                                        1  \n",
      "8                                        1  \n",
      "9                                        0  \n",
      "10                                       1  \n",
      "11                                       0  \n",
      "12                                       0  \n",
      "13                                       1  \n",
      "14                                       1  \n",
      "15                                       1  \n",
      "16                                       1  \n",
      "17                                       0  \n",
      "18                                       1  \n",
      "19                                       1  \n",
      "20                                       0  \n",
      "21                                       1  \n",
      "22                                       0  \n",
      "23                                       0  \n",
      "24                                       1  \n",
      "25                                       1  \n",
      "26                                       0  \n",
      "27                                       0  \n",
      "28                                       1  \n",
      "29                                       1  \n",
      "...                                    ...  \n",
      "4010                                     1  \n",
      "4011                                     1  \n",
      "4012                                     1  \n",
      "4013                                     1  \n",
      "4014                                     1  \n",
      "4015                                     0  \n",
      "4016                                     1  \n",
      "4017                                     0  \n",
      "4018                                     1  \n",
      "4019                                     0  \n",
      "4020                                     1  \n",
      "4021                                     1  \n",
      "4022                                     1  \n",
      "4023                                     1  \n",
      "4024                                     1  \n",
      "4025                                     1  \n",
      "4026                                     1  \n",
      "4027                                     1  \n",
      "4028                                     1  \n",
      "4029                                     1  \n",
      "4030                                     1  \n",
      "4031                                     0  \n",
      "4032                                     1  \n",
      "4033                                     1  \n",
      "4034                                     1  \n",
      "4035                                     0  \n",
      "4036                                     1  \n",
      "4037                                     1  \n",
      "4038                                     0  \n",
      "4039                                     1  \n",
      "\n",
      "[4040 rows x 2 columns]\n"
     ]
    }
   ],
   "source": [
    "# Binarize all the data\n"
   ]
  },
  {
   "cell_type": "code",
   "execution_count": null,
   "metadata": {
    "collapsed": true
   },
   "outputs": [],
   "source": []
  }
 ],
 "metadata": {
  "kernelspec": {
   "display_name": "Python 2",
   "language": "python",
   "name": "python2"
  },
  "language_info": {
   "codemirror_mode": {
    "name": "ipython",
    "version": 2
   },
   "file_extension": ".py",
   "mimetype": "text/x-python",
   "name": "python",
   "nbconvert_exporter": "python",
   "pygments_lexer": "ipython2",
   "version": "2.7.6"
  }
 },
 "nbformat": 4,
 "nbformat_minor": 0
}
